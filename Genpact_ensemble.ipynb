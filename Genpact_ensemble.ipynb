{
 "cells": [
  {
   "cell_type": "code",
   "execution_count": 1115,
   "metadata": {},
   "outputs": [],
   "source": [
    "import pandas as pd\n",
    "import numpy as np\n",
    "import seaborn as sns\n",
    "import matplotlib.pyplot as plt\n",
    "from sklearn import preprocessing\n",
    "from sklearn.ensemble import ExtraTreesRegressor\n",
    "from sklearn.ensemble import RandomForestRegressor\n",
    "from xgboost import XGBRegressor\n",
    "from sklearn.svm import SVR\n",
    "from sklearn.model_selection import train_test_split\n",
    "from sklearn.neighbors import KNeighborsRegressor\n",
    "from sklearn.linear_model import LinearRegression\n",
    "from sklearn.metrics import mean_squared_log_error\n",
    "from sklearn.metrics import mean_absolute_error\n",
    "import xgboost\n",
    "import catboost as cb\n",
    "from sklearn.ensemble import ExtraTreesRegressor\n",
    "from sklearn.ensemble import RandomForestRegressor\n",
    "from xgboost import XGBRegressor\n",
    "from sklearn.linear_model import ElasticNet\n",
    "from vecstack import stacking\n",
    "from sklearn import linear_model\n",
    "from sklearn.tree import DecisionTreeRegressor\n"
   ]
  },
  {
   "cell_type": "code",
   "execution_count": 1116,
   "metadata": {},
   "outputs": [],
   "source": [
    "train = pd.read_csv(r'C:\\Users\\dell15\\genpact\\train.csv')\n",
    "meal_info = pd.read_csv(r'C:\\Users\\dell15\\genpact\\meal_info.csv')\n",
    "fullfill = pd.read_csv(r'C:\\Users\\dell15\\genpact\\fulfilment_center_info.csv')"
   ]
  },
  {
   "cell_type": "code",
   "execution_count": 1117,
   "metadata": {},
   "outputs": [],
   "source": [
    "train = train.merge(fullfill,on='center_id',how='left')\n"
   ]
  },
  {
   "cell_type": "code",
   "execution_count": 1118,
   "metadata": {},
   "outputs": [],
   "source": [
    "train = train.merge(meal_info,on = 'meal_id',how='left')"
   ]
  },
  {
   "cell_type": "code",
   "execution_count": 1119,
   "metadata": {},
   "outputs": [],
   "source": [
    "test = pd.read_csv(r'C:\\Users\\dell15\\genpact\\test_QoiMO9B.csv')\n"
   ]
  },
  {
   "cell_type": "code",
   "execution_count": 1120,
   "metadata": {},
   "outputs": [],
   "source": [
    "test = test.merge(fullfill , on = 'center_id',how='left')"
   ]
  },
  {
   "cell_type": "code",
   "execution_count": 1121,
   "metadata": {},
   "outputs": [],
   "source": [
    "\n",
    "test = test.merge(meal_info ,  on = 'meal_id',how='left')"
   ]
  },
  {
   "cell_type": "code",
   "execution_count": 1122,
   "metadata": {},
   "outputs": [],
   "source": [
    "def profit_total(col1 , col2):\n",
    "    profit = col2 - col1\n",
    "    return profit\n",
    "profit = profit_total(train['base_price'],train['checkout_price'])\n",
    "train['profit'] = profit\n",
    "profit_test = profit_total(test['base_price'],test['checkout_price'])\n",
    "test['profit'] = profit_test"
   ]
  },
  {
   "cell_type": "code",
   "execution_count": 1123,
   "metadata": {},
   "outputs": [],
   "source": [
    "def discount_col(col1 , col2):\n",
    "    x = col1-col2\n",
    "    y = (x/col2)*100\n",
    "    return (y)\n",
    "disc =discount_col(train['checkout_price'],train['base_price'])\n",
    "train['discount'] = disc\n",
    "disc_test = discount_col(test['checkout_price'],test['checkout_price'])\n",
    "test['discount'] = disc_test"
   ]
  },
  {
   "cell_type": "code",
   "execution_count": 1124,
   "metadata": {},
   "outputs": [],
   "source": [
    "le = preprocessing.LabelEncoder()\n",
    "train['center_id'] = le.fit_transform(train['center_id'])\n",
    "test['center_id'] = le.transform(test['center_id'])\n",
    "train['meal_id'] = le.fit_transform(train['meal_id'])\n",
    "test['meal_id'] = le.transform(test['meal_id'])\n",
    "#train['city_code'] = le.fit_transform(train['city_code'])\n",
    "#test['city_code'] = le.transform(test['city_code'])\n",
    "#train['region_code'] = le.fit_transform(train['region_code'])\n",
    "#test['region_code'] = le.transform(test['region_code'])"
   ]
  },
  {
   "cell_type": "code",
   "execution_count": 1125,
   "metadata": {},
   "outputs": [],
   "source": [
    "one_hot_data = pd.concat([train, pd.get_dummies(train['center_type'])], axis=1)\n",
    "one_hot_data = one_hot_data.drop('center_type', axis=1)\n",
    "train = one_hot_data[:]\n",
    "\n",
    "\n",
    "one_hot_data = pd.concat([test, pd.get_dummies(test['center_type'])], axis=1)\n",
    "one_hot_data = one_hot_data.drop('center_type', axis=1)\n",
    "test = one_hot_data[:]\n",
    "\n",
    "\n",
    "one_hot_data = pd.concat([train, pd.get_dummies(train['category'])], axis=1)\n",
    "one_hot_data = one_hot_data.drop('category', axis=1)\n",
    "train = one_hot_data[:]\n",
    "\n",
    "one_hot_data = pd.concat([test, pd.get_dummies(test['category'])], axis=1)\n",
    "one_hot_data = one_hot_data.drop('category', axis=1)\n",
    "test = one_hot_data[:]\n",
    "\n",
    "one_hot_data = pd.concat([train, pd.get_dummies(train['cuisine'])], axis=1)\n",
    "one_hot_data = one_hot_data.drop('cuisine', axis=1)\n",
    "train = one_hot_data[:]\n",
    "\n",
    "one_hot_data = pd.concat([test, pd.get_dummies(test['cuisine'])], axis=1)\n",
    "one_hot_data = one_hot_data.drop('cuisine', axis=1)\n",
    "test = one_hot_data[:]\n",
    "\n"
   ]
  },
  {
   "cell_type": "code",
   "execution_count": null,
   "metadata": {},
   "outputs": [],
   "source": []
  },
  {
   "cell_type": "code",
   "execution_count": 1126,
   "metadata": {},
   "outputs": [
    {
     "data": {
      "text/plain": [
       "\"one_hot_data = pd.concat([train, pd.get_dummies(train['region_code'])], axis=1)\\none_hot_data = one_hot_data.drop('region_code', axis=1)\\ntrain = one_hot_data[:]\\n\\none_hot_data = pd.concat([test, pd.get_dummies(test['region_code'])], axis=1)\\none_hot_data = one_hot_data.drop('region_code', axis=1)\\ntest = one_hot_data[:]\\n\\none_hot_data = pd.concat([train, pd.get_dummies(train['city_code'])], axis=1)\\none_hot_data = one_hot_data.drop('city_code', axis=1)\\ntrain = one_hot_data[:]\\n\\none_hot_data = pd.concat([test, pd.get_dummies(test['city_code'])], axis=1)\\none_hot_data = one_hot_data.drop('city_code', axis=1)\\ntest = one_hot_data[:]\\n\""
      ]
     },
     "execution_count": 1126,
     "metadata": {},
     "output_type": "execute_result"
    }
   ],
   "source": [
    "\n",
    "\n",
    "#train.center_type=train.center_type.astype(np.object)\n",
    "#test.center_type=test.center_type.astype(np.object)\n",
    "#categorical_features_indices = np.where(X_train.dtypes =='object')[0]\n",
    "'''one_hot_data = pd.concat([train, pd.get_dummies(train['region_code'])], axis=1)\n",
    "one_hot_data = one_hot_data.drop('region_code', axis=1)\n",
    "train = one_hot_data[:]\n",
    "\n",
    "one_hot_data = pd.concat([test, pd.get_dummies(test['region_code'])], axis=1)\n",
    "one_hot_data = one_hot_data.drop('region_code', axis=1)\n",
    "test = one_hot_data[:]\n",
    "\n",
    "one_hot_data = pd.concat([train, pd.get_dummies(train['city_code'])], axis=1)\n",
    "one_hot_data = one_hot_data.drop('city_code', axis=1)\n",
    "train = one_hot_data[:]\n",
    "\n",
    "one_hot_data = pd.concat([test, pd.get_dummies(test['city_code'])], axis=1)\n",
    "one_hot_data = one_hot_data.drop('city_code', axis=1)\n",
    "test = one_hot_data[:]\n",
    "'''\n"
   ]
  },
  {
   "cell_type": "code",
   "execution_count": 1127,
   "metadata": {},
   "outputs": [
    {
     "name": "stderr",
     "output_type": "stream",
     "text": [
      "C:\\Users\\dell15\\Anaconda3\\lib\\site-packages\\ipykernel_launcher.py:4: SettingWithCopyWarning: \n",
      "A value is trying to be set on a copy of a slice from a DataFrame.\n",
      "Try using .loc[row_indexer,col_indexer] = value instead\n",
      "\n",
      "See the caveats in the documentation: http://pandas.pydata.org/pandas-docs/stable/indexing.html#indexing-view-versus-copy\n",
      "  after removing the cwd from sys.path.\n"
     ]
    }
   ],
   "source": [
    "\n",
    "#df['color'] = np.where(df['Set']=='Z', 'green', 'red')\n",
    "train['advanced'] = [1 if x >= 3.5 else 0 for x in train['op_area']]\n",
    "test['advanced'] = [1 if x >= 3.5 else 0 for x in test['op_area']]\n"
   ]
  },
  {
   "cell_type": "code",
   "execution_count": 1128,
   "metadata": {},
   "outputs": [
    {
     "name": "stderr",
     "output_type": "stream",
     "text": [
      "C:\\Users\\dell15\\Anaconda3\\lib\\site-packages\\ipykernel_launcher.py:9: SettingWithCopyWarning: \n",
      "A value is trying to be set on a copy of a slice from a DataFrame.\n",
      "Try using .loc[row_indexer,col_indexer] = value instead\n",
      "\n",
      "See the caveats in the documentation: http://pandas.pydata.org/pandas-docs/stable/indexing.html#indexing-view-versus-copy\n",
      "  if __name__ == '__main__':\n"
     ]
    }
   ],
   "source": [
    "def popular_week(col1,col2,col3):\n",
    "    col4 = col1*col2*col3\n",
    "    return col4\n",
    "\n",
    "popular_week_train = popular_week(train['week'],train['emailer_for_promotion'],train['homepage_featured'])\n",
    "popular_week_test = popular_week(test['week'],test['emailer_for_promotion'],test['homepage_featured'])\n",
    "\n",
    "train['is_pop'] = popular_week_train\n",
    "test['is_pop'] = popular_week_test\n",
    "\n"
   ]
  },
  {
   "cell_type": "code",
   "execution_count": 1129,
   "metadata": {},
   "outputs": [
    {
     "data": {
      "text/plain": [
       "\" def square(col1):\\n    col3 = col1*col1\\n    return col3\\n\\n#square_prof = square(train['profit'])\\nsquare_disc = square(train['discount'])\\n\\nsquare_prof_test = square(test['profit'])\\nsquare_disc_test = square(test['profit'])\\n\\ntrain['square_profit'] = square_prof\\ntrain['square_discount'] = square_disc\\n\""
      ]
     },
     "execution_count": 1129,
     "metadata": {},
     "output_type": "execute_result"
    }
   ],
   "source": [
    "''' def square(col1):\n",
    "    col3 = col1*col1\n",
    "    return col3\n",
    "\n",
    "#square_prof = square(train['profit'])\n",
    "square_disc = square(train['discount'])\n",
    "\n",
    "square_prof_test = square(test['profit'])\n",
    "square_disc_test = square(test['profit'])\n",
    "\n",
    "train['square_profit'] = square_prof\n",
    "train['square_discount'] = square_disc\n",
    "'''\n",
    "\n",
    "#test['square_profit'] = square_prof_test\n",
    "#test['square_discount'] = square_disc_test\n"
   ]
  },
  {
   "cell_type": "code",
   "execution_count": 1130,
   "metadata": {},
   "outputs": [],
   "source": [
    "#one_hot_data = pd.concat([train, pd.get_dummies(train['week'])], axis=1)\n",
    "#one_hot_data = one_hot_data.drop('week', axis=1)\n",
    "#train = one_hot_data[:]\n",
    "\n",
    "#one_hot_data = pd.concat([test, pd.get_dummies(test['week'])], axis=1)\n",
    "#one_hot_data = one_hot_data.drop('week', axis=1)\n",
    "#test = one_hot_data[:]\n",
    "    "
   ]
  },
  {
   "cell_type": "code",
   "execution_count": null,
   "metadata": {},
   "outputs": [],
   "source": []
  },
  {
   "cell_type": "code",
   "execution_count": null,
   "metadata": {},
   "outputs": [],
   "source": []
  },
  {
   "cell_type": "code",
   "execution_count": null,
   "metadata": {},
   "outputs": [],
   "source": []
  },
  {
   "cell_type": "code",
   "execution_count": null,
   "metadata": {},
   "outputs": [],
   "source": []
  },
  {
   "cell_type": "code",
   "execution_count": null,
   "metadata": {},
   "outputs": [],
   "source": []
  },
  {
   "cell_type": "code",
   "execution_count": null,
   "metadata": {},
   "outputs": [],
   "source": []
  },
  {
   "cell_type": "code",
   "execution_count": null,
   "metadata": {},
   "outputs": [],
   "source": []
  },
  {
   "cell_type": "code",
   "execution_count": null,
   "metadata": {},
   "outputs": [],
   "source": []
  },
  {
   "cell_type": "code",
   "execution_count": null,
   "metadata": {},
   "outputs": [],
   "source": []
  },
  {
   "cell_type": "code",
   "execution_count": 1131,
   "metadata": {},
   "outputs": [
    {
     "name": "stderr",
     "output_type": "stream",
     "text": [
      "C:\\Users\\dell15\\Anaconda3\\lib\\site-packages\\pandas\\core\\frame.py:3694: SettingWithCopyWarning: \n",
      "A value is trying to be set on a copy of a slice from a DataFrame\n",
      "\n",
      "See the caveats in the documentation: http://pandas.pydata.org/pandas-docs/stable/indexing.html#indexing-view-versus-copy\n",
      "  errors=errors)\n"
     ]
    }
   ],
   "source": [
    "target = train['num_orders']\n",
    "train = train.drop(['num_orders','id'],axis=1)\n",
    "test.drop(['id'],axis=1,inplace=True)"
   ]
  },
  {
   "cell_type": "code",
   "execution_count": 1132,
   "metadata": {},
   "outputs": [],
   "source": [
    "def rmsle(real, predicted):\n",
    "    sum=0.0\n",
    "    for x in range(len(predicted)):\n",
    "        if predicted[x]<0 or real[x]<0: #check for negative values\n",
    "            continue\n",
    "        p = np.log(predicted[x]+1)\n",
    "        r = np.log(real[x]+1)\n",
    "        sum = sum + (p - r)**2\n",
    "    return (sum/len(predicted))**0.5"
   ]
  },
  {
   "cell_type": "code",
   "execution_count": 1038,
   "metadata": {},
   "outputs": [],
   "source": [
    "X_train,X_val,y_train,y_val = train_test_split(train,target)"
   ]
  },
  {
   "cell_type": "code",
   "execution_count": null,
   "metadata": {},
   "outputs": [],
   "source": []
  },
  {
   "cell_type": "code",
   "execution_count": 788,
   "metadata": {},
   "outputs": [
    {
     "name": "stdout",
     "output_type": "stream",
     "text": [
      "<class 'pandas.core.frame.DataFrame'>\n",
      "Int64Index: 456548 entries, 0 to 456547\n",
      "Data columns (total 39 columns):\n",
      "id                       456548 non-null int64\n",
      "week                     456548 non-null int64\n",
      "center_id                456548 non-null int64\n",
      "meal_id                  456548 non-null int64\n",
      "checkout_price           456548 non-null float64\n",
      "base_price               456548 non-null float64\n",
      "emailer_for_promotion    456548 non-null int64\n",
      "homepage_featured        456548 non-null int64\n",
      "num_orders               456548 non-null int64\n",
      "city_code                456548 non-null int64\n",
      "region_code              456548 non-null int64\n",
      "op_area                  456548 non-null float64\n",
      "profit                   456548 non-null float64\n",
      "discount                 456548 non-null float64\n",
      "TYPE_A                   456548 non-null uint8\n",
      "TYPE_B                   456548 non-null uint8\n",
      "TYPE_C                   456548 non-null uint8\n",
      "Beverages                456548 non-null uint8\n",
      "Biryani                  456548 non-null uint8\n",
      "Desert                   456548 non-null uint8\n",
      "Extras                   456548 non-null uint8\n",
      "Fish                     456548 non-null uint8\n",
      "Other Snacks             456548 non-null uint8\n",
      "Pasta                    456548 non-null uint8\n",
      "Pizza                    456548 non-null uint8\n",
      "Rice Bowl                456548 non-null uint8\n",
      "Salad                    456548 non-null uint8\n",
      "Sandwich                 456548 non-null uint8\n",
      "Seafood                  456548 non-null uint8\n",
      "Soup                     456548 non-null uint8\n",
      "Starters                 456548 non-null uint8\n",
      "Continental              456548 non-null uint8\n",
      "Indian                   456548 non-null uint8\n",
      "Italian                  456548 non-null uint8\n",
      "Thai                     456548 non-null uint8\n",
      "advanced                 456548 non-null int64\n",
      "is_pop                   456548 non-null int64\n",
      "square_profit            456548 non-null float64\n",
      "square_discount          456548 non-null float64\n",
      "dtypes: float64(7), int64(11), uint8(21)\n",
      "memory usage: 75.3 MB\n"
     ]
    }
   ],
   "source": [
    "train.info()"
   ]
  },
  {
   "cell_type": "code",
   "execution_count": null,
   "metadata": {},
   "outputs": [],
   "source": [
    "rice bowl , sandwich , italian"
   ]
  },
  {
   "cell_type": "code",
   "execution_count": 1133,
   "metadata": {},
   "outputs": [],
   "source": [
    "def popularity(col1,col2,col3):\n",
    "    col4 = col1*col2*col3\n",
    "    return col4\n",
    "\n",
    "def email_pop(col1,col2):\n",
    "    col3 = col1*col2\n",
    "    return col3\n",
    "\n",
    "rice_promo_train = popularity(train['Rice Bowl'], train['emailer_for_promotion'],train['homepage_featured']) \n",
    "rice_promo_test = popularity(test['Rice Bowl'], test['emailer_for_promotion'],test['homepage_featured'])\n",
    "\n",
    "italian_promo_train = popularity(train['Italian'], train['emailer_for_promotion'],train['homepage_featured']) \n",
    "italian_promo_test = popularity(test['Italian'], test['emailer_for_promotion'],test['homepage_featured'])\n",
    "\n",
    "sandwich_promo_train = popularity(train['Sandwich'], train['emailer_for_promotion'],train['homepage_featured']) \n",
    "sandiwch_promo_test = popularity(test['Sandwich'], test['emailer_for_promotion'],test['homepage_featured'])\n",
    "\n",
    "mel_op_tr = email_pop(train['op_area'],train['meal_id'])\n",
    "mel_op_test = email_pop(test['op_area'],test['meal_id'])\n",
    "\n",
    "cen_op_tr = email_pop(train['op_area'],train['center_id'])\n",
    "cen_op_test = email_pop(test['op_area'],test['center_id'])"
   ]
  },
  {
   "cell_type": "code",
   "execution_count": 1134,
   "metadata": {},
   "outputs": [],
   "source": [
    "def root(col1):\n",
    "    col2 = np.sqrt(col1)\n",
    "    return col2\n",
    "sqrt_check = root(train['checkout_price'])\n",
    "sqrt_check_test = root(test['checkout_price'])\n",
    "\n",
    "sqrt_base = root(train['base_price'])\n",
    "sqrt_base_test = root(test['base_price'])"
   ]
  },
  {
   "cell_type": "code",
   "execution_count": 1135,
   "metadata": {},
   "outputs": [
    {
     "name": "stderr",
     "output_type": "stream",
     "text": [
      "C:\\Users\\dell15\\Anaconda3\\lib\\site-packages\\ipykernel_launcher.py:2: SettingWithCopyWarning: \n",
      "A value is trying to be set on a copy of a slice from a DataFrame.\n",
      "Try using .loc[row_indexer,col_indexer] = value instead\n",
      "\n",
      "See the caveats in the documentation: http://pandas.pydata.org/pandas-docs/stable/indexing.html#indexing-view-versus-copy\n",
      "  \n",
      "C:\\Users\\dell15\\Anaconda3\\lib\\site-packages\\ipykernel_launcher.py:5: SettingWithCopyWarning: \n",
      "A value is trying to be set on a copy of a slice from a DataFrame.\n",
      "Try using .loc[row_indexer,col_indexer] = value instead\n",
      "\n",
      "See the caveats in the documentation: http://pandas.pydata.org/pandas-docs/stable/indexing.html#indexing-view-versus-copy\n",
      "  \"\"\"\n"
     ]
    }
   ],
   "source": [
    "train['sqrt_check'] = sqrt_check\n",
    "test['sqrt_check'] = sqrt_check_test\n",
    "\n",
    "train['base_check'] = sqrt_base\n",
    "test['base_check'] = sqrt_base_test"
   ]
  },
  {
   "cell_type": "code",
   "execution_count": null,
   "metadata": {},
   "outputs": [],
   "source": []
  },
  {
   "cell_type": "code",
   "execution_count": 1136,
   "metadata": {},
   "outputs": [
    {
     "name": "stderr",
     "output_type": "stream",
     "text": [
      "C:\\Users\\dell15\\Anaconda3\\lib\\site-packages\\ipykernel_launcher.py:2: SettingWithCopyWarning: \n",
      "A value is trying to be set on a copy of a slice from a DataFrame.\n",
      "Try using .loc[row_indexer,col_indexer] = value instead\n",
      "\n",
      "See the caveats in the documentation: http://pandas.pydata.org/pandas-docs/stable/indexing.html#indexing-view-versus-copy\n",
      "  \n",
      "C:\\Users\\dell15\\Anaconda3\\lib\\site-packages\\ipykernel_launcher.py:5: SettingWithCopyWarning: \n",
      "A value is trying to be set on a copy of a slice from a DataFrame.\n",
      "Try using .loc[row_indexer,col_indexer] = value instead\n",
      "\n",
      "See the caveats in the documentation: http://pandas.pydata.org/pandas-docs/stable/indexing.html#indexing-view-versus-copy\n",
      "  \"\"\"\n",
      "C:\\Users\\dell15\\Anaconda3\\lib\\site-packages\\ipykernel_launcher.py:8: SettingWithCopyWarning: \n",
      "A value is trying to be set on a copy of a slice from a DataFrame.\n",
      "Try using .loc[row_indexer,col_indexer] = value instead\n",
      "\n",
      "See the caveats in the documentation: http://pandas.pydata.org/pandas-docs/stable/indexing.html#indexing-view-versus-copy\n",
      "  \n",
      "C:\\Users\\dell15\\Anaconda3\\lib\\site-packages\\ipykernel_launcher.py:11: SettingWithCopyWarning: \n",
      "A value is trying to be set on a copy of a slice from a DataFrame.\n",
      "Try using .loc[row_indexer,col_indexer] = value instead\n",
      "\n",
      "See the caveats in the documentation: http://pandas.pydata.org/pandas-docs/stable/indexing.html#indexing-view-versus-copy\n",
      "  # This is added back by InteractiveShellApp.init_path()\n",
      "C:\\Users\\dell15\\Anaconda3\\lib\\site-packages\\ipykernel_launcher.py:14: SettingWithCopyWarning: \n",
      "A value is trying to be set on a copy of a slice from a DataFrame.\n",
      "Try using .loc[row_indexer,col_indexer] = value instead\n",
      "\n",
      "See the caveats in the documentation: http://pandas.pydata.org/pandas-docs/stable/indexing.html#indexing-view-versus-copy\n",
      "  \n"
     ]
    }
   ],
   "source": [
    "train['rice_promo'] = rice_promo_train\n",
    "test['rice_promo'] = rice_promo_test\n",
    "\n",
    "train['italian_promo'] = italian_promo_train\n",
    "test['italian_promo'] = italian_promo_test\n",
    "\n",
    "train['sandwich_promo'] = sandwich_promo_train\n",
    "test['sandwich_promo'] = sandiwch_promo_test\n",
    "\n",
    "train['meal_op'] = mel_op_tr\n",
    "test['meal_op'] = mel_op_test\n",
    "\n",
    "train['cent_op'] = cen_op_tr\n",
    "test['cent_op'] = cen_op_test"
   ]
  },
  {
   "cell_type": "code",
   "execution_count": 1137,
   "metadata": {},
   "outputs": [
    {
     "data": {
      "text/html": [
       "<div>\n",
       "<style scoped>\n",
       "    .dataframe tbody tr th:only-of-type {\n",
       "        vertical-align: middle;\n",
       "    }\n",
       "\n",
       "    .dataframe tbody tr th {\n",
       "        vertical-align: top;\n",
       "    }\n",
       "\n",
       "    .dataframe thead th {\n",
       "        text-align: right;\n",
       "    }\n",
       "</style>\n",
       "<table border=\"1\" class=\"dataframe\">\n",
       "  <thead>\n",
       "    <tr style=\"text-align: right;\">\n",
       "      <th></th>\n",
       "      <th>week</th>\n",
       "      <th>center_id</th>\n",
       "      <th>meal_id</th>\n",
       "      <th>checkout_price</th>\n",
       "      <th>base_price</th>\n",
       "      <th>emailer_for_promotion</th>\n",
       "      <th>homepage_featured</th>\n",
       "      <th>city_code</th>\n",
       "      <th>region_code</th>\n",
       "      <th>op_area</th>\n",
       "      <th>...</th>\n",
       "      <th>Thai</th>\n",
       "      <th>advanced</th>\n",
       "      <th>is_pop</th>\n",
       "      <th>sqrt_check</th>\n",
       "      <th>base_check</th>\n",
       "      <th>rice_promo</th>\n",
       "      <th>italian_promo</th>\n",
       "      <th>sandwich_promo</th>\n",
       "      <th>meal_op</th>\n",
       "      <th>cent_op</th>\n",
       "    </tr>\n",
       "  </thead>\n",
       "  <tbody>\n",
       "    <tr>\n",
       "      <th>0</th>\n",
       "      <td>1</td>\n",
       "      <td>23</td>\n",
       "      <td>22</td>\n",
       "      <td>136.83</td>\n",
       "      <td>152.29</td>\n",
       "      <td>0</td>\n",
       "      <td>0</td>\n",
       "      <td>647</td>\n",
       "      <td>56</td>\n",
       "      <td>2.0</td>\n",
       "      <td>...</td>\n",
       "      <td>1</td>\n",
       "      <td>0</td>\n",
       "      <td>0</td>\n",
       "      <td>11.697436</td>\n",
       "      <td>12.340583</td>\n",
       "      <td>0</td>\n",
       "      <td>0</td>\n",
       "      <td>0</td>\n",
       "      <td>44.0</td>\n",
       "      <td>46.0</td>\n",
       "    </tr>\n",
       "    <tr>\n",
       "      <th>1</th>\n",
       "      <td>1</td>\n",
       "      <td>23</td>\n",
       "      <td>26</td>\n",
       "      <td>136.83</td>\n",
       "      <td>135.83</td>\n",
       "      <td>0</td>\n",
       "      <td>0</td>\n",
       "      <td>647</td>\n",
       "      <td>56</td>\n",
       "      <td>2.0</td>\n",
       "      <td>...</td>\n",
       "      <td>1</td>\n",
       "      <td>0</td>\n",
       "      <td>0</td>\n",
       "      <td>11.697436</td>\n",
       "      <td>11.654613</td>\n",
       "      <td>0</td>\n",
       "      <td>0</td>\n",
       "      <td>0</td>\n",
       "      <td>52.0</td>\n",
       "      <td>46.0</td>\n",
       "    </tr>\n",
       "    <tr>\n",
       "      <th>2</th>\n",
       "      <td>1</td>\n",
       "      <td>23</td>\n",
       "      <td>38</td>\n",
       "      <td>134.86</td>\n",
       "      <td>135.86</td>\n",
       "      <td>0</td>\n",
       "      <td>0</td>\n",
       "      <td>647</td>\n",
       "      <td>56</td>\n",
       "      <td>2.0</td>\n",
       "      <td>...</td>\n",
       "      <td>1</td>\n",
       "      <td>0</td>\n",
       "      <td>0</td>\n",
       "      <td>11.612924</td>\n",
       "      <td>11.655900</td>\n",
       "      <td>0</td>\n",
       "      <td>0</td>\n",
       "      <td>0</td>\n",
       "      <td>76.0</td>\n",
       "      <td>46.0</td>\n",
       "    </tr>\n",
       "    <tr>\n",
       "      <th>3</th>\n",
       "      <td>1</td>\n",
       "      <td>23</td>\n",
       "      <td>29</td>\n",
       "      <td>339.50</td>\n",
       "      <td>437.53</td>\n",
       "      <td>0</td>\n",
       "      <td>0</td>\n",
       "      <td>647</td>\n",
       "      <td>56</td>\n",
       "      <td>2.0</td>\n",
       "      <td>...</td>\n",
       "      <td>0</td>\n",
       "      <td>0</td>\n",
       "      <td>0</td>\n",
       "      <td>18.425526</td>\n",
       "      <td>20.917218</td>\n",
       "      <td>0</td>\n",
       "      <td>0</td>\n",
       "      <td>0</td>\n",
       "      <td>58.0</td>\n",
       "      <td>46.0</td>\n",
       "    </tr>\n",
       "    <tr>\n",
       "      <th>4</th>\n",
       "      <td>1</td>\n",
       "      <td>23</td>\n",
       "      <td>42</td>\n",
       "      <td>243.50</td>\n",
       "      <td>242.50</td>\n",
       "      <td>0</td>\n",
       "      <td>0</td>\n",
       "      <td>647</td>\n",
       "      <td>56</td>\n",
       "      <td>2.0</td>\n",
       "      <td>...</td>\n",
       "      <td>0</td>\n",
       "      <td>0</td>\n",
       "      <td>0</td>\n",
       "      <td>15.604487</td>\n",
       "      <td>15.572412</td>\n",
       "      <td>0</td>\n",
       "      <td>0</td>\n",
       "      <td>0</td>\n",
       "      <td>84.0</td>\n",
       "      <td>46.0</td>\n",
       "    </tr>\n",
       "  </tbody>\n",
       "</table>\n",
       "<p>5 rows × 42 columns</p>\n",
       "</div>"
      ],
      "text/plain": [
       "   week  center_id  meal_id  checkout_price  base_price  \\\n",
       "0     1         23       22          136.83      152.29   \n",
       "1     1         23       26          136.83      135.83   \n",
       "2     1         23       38          134.86      135.86   \n",
       "3     1         23       29          339.50      437.53   \n",
       "4     1         23       42          243.50      242.50   \n",
       "\n",
       "   emailer_for_promotion  homepage_featured  city_code  region_code  op_area  \\\n",
       "0                      0                  0        647           56      2.0   \n",
       "1                      0                  0        647           56      2.0   \n",
       "2                      0                  0        647           56      2.0   \n",
       "3                      0                  0        647           56      2.0   \n",
       "4                      0                  0        647           56      2.0   \n",
       "\n",
       "    ...     Thai  advanced  is_pop  sqrt_check  base_check  rice_promo  \\\n",
       "0   ...        1         0       0   11.697436   12.340583           0   \n",
       "1   ...        1         0       0   11.697436   11.654613           0   \n",
       "2   ...        1         0       0   11.612924   11.655900           0   \n",
       "3   ...        0         0       0   18.425526   20.917218           0   \n",
       "4   ...        0         0       0   15.604487   15.572412           0   \n",
       "\n",
       "   italian_promo  sandwich_promo  meal_op  cent_op  \n",
       "0              0               0     44.0     46.0  \n",
       "1              0               0     52.0     46.0  \n",
       "2              0               0     76.0     46.0  \n",
       "3              0               0     58.0     46.0  \n",
       "4              0               0     84.0     46.0  \n",
       "\n",
       "[5 rows x 42 columns]"
      ]
     },
     "execution_count": 1137,
     "metadata": {},
     "output_type": "execute_result"
    }
   ],
   "source": [
    "train.head()"
   ]
  },
  {
   "cell_type": "code",
   "execution_count": 1102,
   "metadata": {},
   "outputs": [],
   "source": [
    "models = [\n",
    "    # LinearRegression(),\n",
    "    #ElasticNet(random_state=0),\n",
    "    ExtraTreesRegressor(),\n",
    "    RandomForestRegressor(),\n",
    "    #DecisionTreeRegressor(),\n",
    "    #linear_model.LassoLars(alpha=.1),\n",
    "    #BayesianRidge(compute_score=True),\n",
    "    #linear_model.Ridge(alpha=.5),\n",
    "    #cb.CatBoostRegressor(max_depth=11, learning_rate=0.005, iterations=1000, early_stopping_rounds=50),\n",
    "   # XGBRegressor(random_state=0, n_jobs=-1, learning_rate=0.1, \n",
    "                 #n_estimators=100, max_depth=3)\n",
    "    #XGBRegressor(objective= 'reg:linear',\n",
    "   # max_depth= 6,\n",
    "   # learning_rate= .01),\n",
    "    #RandomForestRegressor(),\n",
    "    KNeighborsRegressor(n_neighbors = 5),\n",
    "    #RandomForestRegressor()\n",
    "    #LinearRegression()\n",
    "    #cb.CatBoostRegressor(max_depth=11, learning_rate=0.005, eval_metric = 'RMSE', iterations=100, early_stopping_rounds=50)\n",
    "    \n",
    "]"
   ]
  },
  {
   "cell_type": "code",
   "execution_count": 1044,
   "metadata": {},
   "outputs": [
    {
     "name": "stdout",
     "output_type": "stream",
     "text": [
      "task:         [regression]\n",
      "metric:       [rmsle]\n",
      "mode:         [oof_pred_bag]\n",
      "n_models:     [3]\n",
      "\n",
      "model  0:     [ExtraTreesRegressor]\n",
      "    fold  0:  [0.54182668]\n",
      "    fold  1:  [0.54234003]\n",
      "    fold  2:  [0.54084548]\n",
      "    ----\n",
      "    MEAN:     [0.54167073] + [0.00062003]\n",
      "    FULL:     [0.54167109]\n",
      "\n",
      "model  1:     [RandomForestRegressor]\n",
      "    fold  0:  [0.51109613]\n",
      "    fold  1:  [0.51276552]\n",
      "    fold  2:  [0.51147745]\n",
      "    ----\n",
      "    MEAN:     [0.51177970] + [0.00071425]\n",
      "    FULL:     [0.51178020]\n",
      "\n",
      "model  2:     [KNeighborsRegressor]\n",
      "    fold  0:  [0.63271877]\n",
      "    fold  1:  [0.63431319]\n",
      "    fold  2:  [0.63078586]\n",
      "    ----\n",
      "    MEAN:     [0.63260594] + [0.00144223]\n",
      "    FULL:     [0.63260759]\n",
      "\n"
     ]
    }
   ],
   "source": [
    "S_train, S_test = stacking(models,                     # list of models\n",
    "                           train, target, test,   # data\n",
    "                           regression=True,            # regression task (if you need \n",
    "                                                       #     classification - set to False)\n",
    "                           mode='oof_pred_bag',        # mode: oof for train set, predict test \n",
    "                                                       #     set in each fold and find mean\n",
    "                           save_dir=None,              # do not save result and log (to save \n",
    "                                                       #     in current dir - set to '.')\n",
    "                           metric=rmsle, # metric: callable\n",
    "                           n_folds=3,                  # number of folds\n",
    "                           shuffle=True,               # shuffle the data\n",
    "                           random_state=0,             # ensure reproducibility\n",
    "                           verbose=2)"
   ]
  },
  {
   "cell_type": "code",
   "execution_count": 201,
   "metadata": {},
   "outputs": [],
   "source": [
    "#train['LR'] = S_train[:,0]\n"
   ]
  },
  {
   "cell_type": "code",
   "execution_count": 876,
   "metadata": {},
   "outputs": [],
   "source": [
    "train['ET'] = S_train[:,0]\n",
    "train['RF'] = S_train[:,1]\n",
    "train['knn'] = S_train[:,2]\n",
    "#train['Catboost']=S_train[:,2]\n",
    "#train['Xgb1']=S_train[:,4]\n",
    "#train['Xgb2']=S_train[:,5]\n",
    "#train['Knn']=S_train[:,3]\n",
    "#train['LR']=S_train[:,7]"
   ]
  },
  {
   "cell_type": "code",
   "execution_count": 877,
   "metadata": {},
   "outputs": [],
   "source": [
    "#test.head()"
   ]
  },
  {
   "cell_type": "code",
   "execution_count": 878,
   "metadata": {},
   "outputs": [
    {
     "name": "stderr",
     "output_type": "stream",
     "text": [
      "C:\\Users\\dell15\\Anaconda3\\lib\\site-packages\\ipykernel_launcher.py:1: SettingWithCopyWarning: \n",
      "A value is trying to be set on a copy of a slice from a DataFrame.\n",
      "Try using .loc[row_indexer,col_indexer] = value instead\n",
      "\n",
      "See the caveats in the documentation: http://pandas.pydata.org/pandas-docs/stable/indexing.html#indexing-view-versus-copy\n",
      "  \"\"\"Entry point for launching an IPython kernel.\n",
      "C:\\Users\\dell15\\Anaconda3\\lib\\site-packages\\ipykernel_launcher.py:2: SettingWithCopyWarning: \n",
      "A value is trying to be set on a copy of a slice from a DataFrame.\n",
      "Try using .loc[row_indexer,col_indexer] = value instead\n",
      "\n",
      "See the caveats in the documentation: http://pandas.pydata.org/pandas-docs/stable/indexing.html#indexing-view-versus-copy\n",
      "  \n"
     ]
    }
   ],
   "source": [
    "test['ET']=S_test[:,0]\n",
    "test['RF']=S_test[:,1]\n",
    "test['knn'] = S_test[:,2]\n",
    "#test['Ridge']=S_test[:,2]\n",
    "#test['Catboost']=S_test[:,2]\n",
    "#test['Xgb1']=S_test[:,4]\n",
    "#test['Xgb2']=S_test[:,5]\n",
    "#test['Knn']=S_test[:,3]\n",
    "#test['LR']=S_test[:,4]"
   ]
  },
  {
   "cell_type": "code",
   "execution_count": 879,
   "metadata": {},
   "outputs": [
    {
     "name": "stdout",
     "output_type": "stream",
     "text": [
      "<class 'pandas.core.frame.DataFrame'>\n",
      "Int64Index: 456548 entries, 0 to 456547\n",
      "Data columns (total 43 columns):\n",
      "week                     456548 non-null int64\n",
      "center_id                456548 non-null int64\n",
      "meal_id                  456548 non-null int64\n",
      "checkout_price           456548 non-null float64\n",
      "base_price               456548 non-null float64\n",
      "emailer_for_promotion    456548 non-null int64\n",
      "homepage_featured        456548 non-null int64\n",
      "city_code                456548 non-null int64\n",
      "region_code              456548 non-null int64\n",
      "op_area                  456548 non-null float64\n",
      "profit                   456548 non-null float64\n",
      "discount                 456548 non-null float64\n",
      "TYPE_A                   456548 non-null uint8\n",
      "TYPE_B                   456548 non-null uint8\n",
      "TYPE_C                   456548 non-null uint8\n",
      "Beverages                456548 non-null uint8\n",
      "Biryani                  456548 non-null uint8\n",
      "Desert                   456548 non-null uint8\n",
      "Extras                   456548 non-null uint8\n",
      "Fish                     456548 non-null uint8\n",
      "Other Snacks             456548 non-null uint8\n",
      "Pasta                    456548 non-null uint8\n",
      "Pizza                    456548 non-null uint8\n",
      "Rice Bowl                456548 non-null uint8\n",
      "Salad                    456548 non-null uint8\n",
      "Sandwich                 456548 non-null uint8\n",
      "Seafood                  456548 non-null uint8\n",
      "Soup                     456548 non-null uint8\n",
      "Starters                 456548 non-null uint8\n",
      "Continental              456548 non-null uint8\n",
      "Indian                   456548 non-null uint8\n",
      "Italian                  456548 non-null uint8\n",
      "Thai                     456548 non-null uint8\n",
      "advanced                 456548 non-null int64\n",
      "is_pop                   456548 non-null int64\n",
      "sqrt_check               456548 non-null float64\n",
      "base_check               456548 non-null float64\n",
      "rice_promo               456548 non-null int64\n",
      "italian_promo            456548 non-null int64\n",
      "sandwich_promo           456548 non-null int64\n",
      "email_pop                456548 non-null int64\n",
      "ET                       456548 non-null float64\n",
      "RF                       456548 non-null float64\n",
      "dtypes: float64(9), int64(13), uint8(21)\n",
      "memory usage: 89.3 MB\n"
     ]
    }
   ],
   "source": [
    "train.info()"
   ]
  },
  {
   "cell_type": "code",
   "execution_count": 1138,
   "metadata": {},
   "outputs": [],
   "source": [
    "def email_pop(col1,col2):\n",
    "    col3 = col1*col2\n",
    "    return col3\n",
    "def home_pop(col1,col2):\n",
    "    col3 = col1*col2\n",
    "    return col3"
   ]
  },
  {
   "cell_type": "code",
   "execution_count": 1139,
   "metadata": {},
   "outputs": [
    {
     "name": "stderr",
     "output_type": "stream",
     "text": [
      "C:\\Users\\dell15\\Anaconda3\\lib\\site-packages\\ipykernel_launcher.py:4: SettingWithCopyWarning: \n",
      "A value is trying to be set on a copy of a slice from a DataFrame.\n",
      "Try using .loc[row_indexer,col_indexer] = value instead\n",
      "\n",
      "See the caveats in the documentation: http://pandas.pydata.org/pandas-docs/stable/indexing.html#indexing-view-versus-copy\n",
      "  after removing the cwd from sys.path.\n",
      "C:\\Users\\dell15\\Anaconda3\\lib\\site-packages\\ipykernel_launcher.py:10: SettingWithCopyWarning: \n",
      "A value is trying to be set on a copy of a slice from a DataFrame.\n",
      "Try using .loc[row_indexer,col_indexer] = value instead\n",
      "\n",
      "See the caveats in the documentation: http://pandas.pydata.org/pandas-docs/stable/indexing.html#indexing-view-versus-copy\n",
      "  # Remove the CWD from sys.path while we load stuff.\n"
     ]
    }
   ],
   "source": [
    "email =email_pop(train['emailer_for_promotion'],train['meal_id'])\n",
    "train['email_pop'] = email\n",
    "email_test =email_pop(test['emailer_for_promotion'],test['meal_id'])\n",
    "test['email_pop'] = email_test\n",
    "\n",
    "\n",
    "f1 =email_pop(train['op_area'],train['checkout_price'])\n",
    "train['f1'] = f1\n",
    "f1_test =email_pop(test['op_area'],test['checkout_price'])\n",
    "test['f1'] = f1_test"
   ]
  },
  {
   "cell_type": "code",
   "execution_count": 1104,
   "metadata": {},
   "outputs": [
    {
     "name": "stdout",
     "output_type": "stream",
     "text": [
      "<class 'pandas.core.frame.DataFrame'>\n",
      "Int64Index: 456548 entries, 0 to 456547\n",
      "Data columns (total 44 columns):\n",
      "week                     456548 non-null int64\n",
      "center_id                456548 non-null int64\n",
      "meal_id                  456548 non-null int64\n",
      "checkout_price           456548 non-null float64\n",
      "base_price               456548 non-null float64\n",
      "emailer_for_promotion    456548 non-null int64\n",
      "homepage_featured        456548 non-null int64\n",
      "city_code                456548 non-null int64\n",
      "region_code              456548 non-null int64\n",
      "op_area                  456548 non-null float64\n",
      "profit                   456548 non-null float64\n",
      "discount                 456548 non-null float64\n",
      "TYPE_A                   456548 non-null uint8\n",
      "TYPE_B                   456548 non-null uint8\n",
      "TYPE_C                   456548 non-null uint8\n",
      "Beverages                456548 non-null uint8\n",
      "Biryani                  456548 non-null uint8\n",
      "Desert                   456548 non-null uint8\n",
      "Extras                   456548 non-null uint8\n",
      "Fish                     456548 non-null uint8\n",
      "Other Snacks             456548 non-null uint8\n",
      "Pasta                    456548 non-null uint8\n",
      "Pizza                    456548 non-null uint8\n",
      "Rice Bowl                456548 non-null uint8\n",
      "Salad                    456548 non-null uint8\n",
      "Sandwich                 456548 non-null uint8\n",
      "Seafood                  456548 non-null uint8\n",
      "Soup                     456548 non-null uint8\n",
      "Starters                 456548 non-null uint8\n",
      "Continental              456548 non-null uint8\n",
      "Indian                   456548 non-null uint8\n",
      "Italian                  456548 non-null uint8\n",
      "Thai                     456548 non-null uint8\n",
      "advanced                 456548 non-null int64\n",
      "is_pop                   456548 non-null int64\n",
      "sqrt_check               456548 non-null float64\n",
      "base_check               456548 non-null float64\n",
      "rice_promo               456548 non-null int64\n",
      "italian_promo            456548 non-null int64\n",
      "sandwich_promo           456548 non-null int64\n",
      "meal_op                  456548 non-null float64\n",
      "cent_op                  456548 non-null float64\n",
      "email_pop                456548 non-null int64\n",
      "f1                       456548 non-null float64\n",
      "dtypes: float64(10), int64(13), uint8(21)\n",
      "memory usage: 92.7 MB\n"
     ]
    }
   ],
   "source": [
    "train.info()"
   ]
  },
  {
   "cell_type": "code",
   "execution_count": 1140,
   "metadata": {},
   "outputs": [],
   "source": [
    "#import xgboost as xgb\n",
    "from sklearn.decomposition import PCA"
   ]
  },
  {
   "cell_type": "code",
   "execution_count": 1141,
   "metadata": {},
   "outputs": [],
   "source": [
    "#dtrain = xgb.DMatrix('../data/agaricus.txt.train')\n",
    "pca = PCA(n_components=2)\n",
    "train_features = pca.fit_transform(train)"
   ]
  },
  {
   "cell_type": "code",
   "execution_count": 1142,
   "metadata": {},
   "outputs": [],
   "source": [
    "model = RandomForestRegressor()\n",
    "# Fit 2nd level model\n",
    "model = model.fit(train_features, target)"
   ]
  },
  {
   "cell_type": "code",
   "execution_count": 1143,
   "metadata": {},
   "outputs": [],
   "source": [
    "test_features = pca.fit_transform(test)"
   ]
  },
  {
   "cell_type": "code",
   "execution_count": 1144,
   "metadata": {},
   "outputs": [],
   "source": [
    "y_pred = model.predict(test_features)"
   ]
  },
  {
   "cell_type": "code",
   "execution_count": 224,
   "metadata": {},
   "outputs": [],
   "source": [
    "#error = rmsle(y_test,y_pred)"
   ]
  },
  {
   "cell_type": "code",
   "execution_count": null,
   "metadata": {},
   "outputs": [],
   "source": [
    "print(error)"
   ]
  },
  {
   "cell_type": "code",
   "execution_count": null,
   "metadata": {},
   "outputs": [],
   "source": [
    "test_id = pd.read_csv(r'C:\\Users\\dell15\\genpact\\test_QoiMO9B.csv')\n"
   ]
  },
  {
   "cell_type": "code",
   "execution_count": 1145,
   "metadata": {},
   "outputs": [
    {
     "data": {
      "text/html": [
       "<div>\n",
       "<style scoped>\n",
       "    .dataframe tbody tr th:only-of-type {\n",
       "        vertical-align: middle;\n",
       "    }\n",
       "\n",
       "    .dataframe tbody tr th {\n",
       "        vertical-align: top;\n",
       "    }\n",
       "\n",
       "    .dataframe thead th {\n",
       "        text-align: right;\n",
       "    }\n",
       "</style>\n",
       "<table border=\"1\" class=\"dataframe\">\n",
       "  <thead>\n",
       "    <tr style=\"text-align: right;\">\n",
       "      <th></th>\n",
       "      <th>id</th>\n",
       "      <th>num_orders</th>\n",
       "    </tr>\n",
       "  </thead>\n",
       "  <tbody>\n",
       "    <tr>\n",
       "      <th>0</th>\n",
       "      <td>1028232</td>\n",
       "      <td>102.4</td>\n",
       "    </tr>\n",
       "    <tr>\n",
       "      <th>1</th>\n",
       "      <td>1127204</td>\n",
       "      <td>52.9</td>\n",
       "    </tr>\n",
       "    <tr>\n",
       "      <th>2</th>\n",
       "      <td>1212707</td>\n",
       "      <td>84.8</td>\n",
       "    </tr>\n",
       "    <tr>\n",
       "      <th>3</th>\n",
       "      <td>1082698</td>\n",
       "      <td>135.0</td>\n",
       "    </tr>\n",
       "    <tr>\n",
       "      <th>4</th>\n",
       "      <td>1400926</td>\n",
       "      <td>153.9</td>\n",
       "    </tr>\n",
       "  </tbody>\n",
       "</table>\n",
       "</div>"
      ],
      "text/plain": [
       "        id  num_orders\n",
       "0  1028232       102.4\n",
       "1  1127204        52.9\n",
       "2  1212707        84.8\n",
       "3  1082698       135.0\n",
       "4  1400926       153.9"
      ]
     },
     "execution_count": 1145,
     "metadata": {},
     "output_type": "execute_result"
    }
   ],
   "source": [
    "submission = pd.DataFrame({\n",
    "        \"id\": test_id.id,\n",
    "        \"num_orders\": y_pred\n",
    "})\n",
    "\n",
    "submission.to_csv(r'C:\\Users\\dell15\\Desktop\\aparkas\\ensemble_starter_ykbh.csv',index=False)\n",
    "submission.head()"
   ]
  },
  {
   "cell_type": "code",
   "execution_count": 213,
   "metadata": {},
   "outputs": [],
   "source": [
    "X_train, X_test, y_train, y_test = train_test_split(\n",
    "    train, target, test_size=0.1, random_state=42\n",
    ")"
   ]
  },
  {
   "cell_type": "code",
   "execution_count": 52,
   "metadata": {},
   "outputs": [],
   "source": [
    "y_pred_cb = modelX.predict(test)"
   ]
  },
  {
   "cell_type": "code",
   "execution_count": 53,
   "metadata": {},
   "outputs": [
    {
     "data": {
      "text/html": [
       "<div>\n",
       "<style scoped>\n",
       "    .dataframe tbody tr th:only-of-type {\n",
       "        vertical-align: middle;\n",
       "    }\n",
       "\n",
       "    .dataframe tbody tr th {\n",
       "        vertical-align: top;\n",
       "    }\n",
       "\n",
       "    .dataframe thead th {\n",
       "        text-align: right;\n",
       "    }\n",
       "</style>\n",
       "<table border=\"1\" class=\"dataframe\">\n",
       "  <thead>\n",
       "    <tr style=\"text-align: right;\">\n",
       "      <th></th>\n",
       "      <th>id</th>\n",
       "      <th>num_orders</th>\n",
       "    </tr>\n",
       "  </thead>\n",
       "  <tbody>\n",
       "    <tr>\n",
       "      <th>0</th>\n",
       "      <td>1028232</td>\n",
       "      <td>224.4</td>\n",
       "    </tr>\n",
       "    <tr>\n",
       "      <th>1</th>\n",
       "      <td>1127204</td>\n",
       "      <td>278.2</td>\n",
       "    </tr>\n",
       "    <tr>\n",
       "      <th>2</th>\n",
       "      <td>1212707</td>\n",
       "      <td>148.4</td>\n",
       "    </tr>\n",
       "    <tr>\n",
       "      <th>3</th>\n",
       "      <td>1082698</td>\n",
       "      <td>54.2</td>\n",
       "    </tr>\n",
       "    <tr>\n",
       "      <th>4</th>\n",
       "      <td>1400926</td>\n",
       "      <td>44.0</td>\n",
       "    </tr>\n",
       "  </tbody>\n",
       "</table>\n",
       "</div>"
      ],
      "text/plain": [
       "        id  num_orders\n",
       "0  1028232       224.4\n",
       "1  1127204       278.2\n",
       "2  1212707       148.4\n",
       "3  1082698        54.2\n",
       "4  1400926        44.0"
      ]
     },
     "execution_count": 53,
     "metadata": {},
     "output_type": "execute_result"
    }
   ],
   "source": [
    "submission = pd.DataFrame({\n",
    "        \"id\": test_id.id,\n",
    "        \"num_orders\": y_pred\n",
    "})\n",
    "\n",
    "submission.to_csv(r'C:\\Users\\dell15\\Desktop\\aparkas\\ensemble_starter_2.csv',index=False)\n",
    "submission.head()"
   ]
  },
  {
   "cell_type": "code",
   "execution_count": 810,
   "metadata": {},
   "outputs": [],
   "source": [
    "from xgboost import plot_importance\n",
    "from matplotlib import pyplot\n",
    "from xgboost import XGBRegressor"
   ]
  },
  {
   "cell_type": "code",
   "execution_count": 1111,
   "metadata": {},
   "outputs": [
    {
     "data": {
      "text/plain": [
       "XGBRegressor(base_score=0.5, booster='gbtree', colsample_bylevel=1,\n",
       "       colsample_bytree=1, gamma=0, learning_rate=0.1, max_delta_step=0,\n",
       "       max_depth=3, min_child_weight=1, missing=None, n_estimators=100,\n",
       "       n_jobs=1, nthread=None, objective='reg:linear', random_state=0,\n",
       "       reg_alpha=0, reg_lambda=1, scale_pos_weight=1, seed=None,\n",
       "       silent=True, subsample=1)"
      ]
     },
     "execution_count": 1111,
     "metadata": {},
     "output_type": "execute_result"
    }
   ],
   "source": [
    "model_xg = XGBRegressor()\n",
    "model_xg.fit(train, target)"
   ]
  },
  {
   "cell_type": "code",
   "execution_count": 1112,
   "metadata": {},
   "outputs": [
    {
     "data": {
      "image/png": "[encoded data removed]",
      "text/plain": [
       "<matplotlib.figure.Figure at 0x1598fa09518>"
      ]
     },
     "metadata": {},
     "output_type": "display_data"
    }
   ],
   "source": [
    "plot_importance(model_xg)\n",
    "pyplot.show()"
   ]
  },
  {
   "cell_type": "code",
   "execution_count": 1047,
   "metadata": {},
   "outputs": [
    {
     "data": {
      "text/html": [
       "<div>\n",
       "<style scoped>\n",
       "    .dataframe tbody tr th:only-of-type {\n",
       "        vertical-align: middle;\n",
       "    }\n",
       "\n",
       "    .dataframe tbody tr th {\n",
       "        vertical-align: top;\n",
       "    }\n",
       "\n",
       "    .dataframe thead th {\n",
       "        text-align: right;\n",
       "    }\n",
       "</style>\n",
       "<table border=\"1\" class=\"dataframe\">\n",
       "  <thead>\n",
       "    <tr style=\"text-align: right;\">\n",
       "      <th></th>\n",
       "      <th>week</th>\n",
       "      <th>center_id</th>\n",
       "      <th>meal_id</th>\n",
       "      <th>checkout_price</th>\n",
       "      <th>base_price</th>\n",
       "      <th>emailer_for_promotion</th>\n",
       "      <th>homepage_featured</th>\n",
       "      <th>city_code</th>\n",
       "      <th>region_code</th>\n",
       "      <th>op_area</th>\n",
       "      <th>...</th>\n",
       "      <th>Italian</th>\n",
       "      <th>Thai</th>\n",
       "      <th>advanced</th>\n",
       "      <th>is_pop</th>\n",
       "      <th>sqrt_check</th>\n",
       "      <th>base_check</th>\n",
       "      <th>rice_promo</th>\n",
       "      <th>italian_promo</th>\n",
       "      <th>sandwich_promo</th>\n",
       "      <th>meal_op</th>\n",
       "    </tr>\n",
       "  </thead>\n",
       "  <tbody>\n",
       "    <tr>\n",
       "      <th>0</th>\n",
       "      <td>1</td>\n",
       "      <td>23</td>\n",
       "      <td>22</td>\n",
       "      <td>136.83</td>\n",
       "      <td>152.29</td>\n",
       "      <td>0</td>\n",
       "      <td>0</td>\n",
       "      <td>647</td>\n",
       "      <td>56</td>\n",
       "      <td>2.0</td>\n",
       "      <td>...</td>\n",
       "      <td>0</td>\n",
       "      <td>1</td>\n",
       "      <td>0</td>\n",
       "      <td>0</td>\n",
       "      <td>11.697436</td>\n",
       "      <td>12.340583</td>\n",
       "      <td>0</td>\n",
       "      <td>0</td>\n",
       "      <td>0</td>\n",
       "      <td>44.0</td>\n",
       "    </tr>\n",
       "    <tr>\n",
       "      <th>1</th>\n",
       "      <td>1</td>\n",
       "      <td>23</td>\n",
       "      <td>26</td>\n",
       "      <td>136.83</td>\n",
       "      <td>135.83</td>\n",
       "      <td>0</td>\n",
       "      <td>0</td>\n",
       "      <td>647</td>\n",
       "      <td>56</td>\n",
       "      <td>2.0</td>\n",
       "      <td>...</td>\n",
       "      <td>0</td>\n",
       "      <td>1</td>\n",
       "      <td>0</td>\n",
       "      <td>0</td>\n",
       "      <td>11.697436</td>\n",
       "      <td>11.654613</td>\n",
       "      <td>0</td>\n",
       "      <td>0</td>\n",
       "      <td>0</td>\n",
       "      <td>52.0</td>\n",
       "    </tr>\n",
       "    <tr>\n",
       "      <th>2</th>\n",
       "      <td>1</td>\n",
       "      <td>23</td>\n",
       "      <td>38</td>\n",
       "      <td>134.86</td>\n",
       "      <td>135.86</td>\n",
       "      <td>0</td>\n",
       "      <td>0</td>\n",
       "      <td>647</td>\n",
       "      <td>56</td>\n",
       "      <td>2.0</td>\n",
       "      <td>...</td>\n",
       "      <td>0</td>\n",
       "      <td>1</td>\n",
       "      <td>0</td>\n",
       "      <td>0</td>\n",
       "      <td>11.612924</td>\n",
       "      <td>11.655900</td>\n",
       "      <td>0</td>\n",
       "      <td>0</td>\n",
       "      <td>0</td>\n",
       "      <td>76.0</td>\n",
       "    </tr>\n",
       "    <tr>\n",
       "      <th>3</th>\n",
       "      <td>1</td>\n",
       "      <td>23</td>\n",
       "      <td>29</td>\n",
       "      <td>339.50</td>\n",
       "      <td>437.53</td>\n",
       "      <td>0</td>\n",
       "      <td>0</td>\n",
       "      <td>647</td>\n",
       "      <td>56</td>\n",
       "      <td>2.0</td>\n",
       "      <td>...</td>\n",
       "      <td>0</td>\n",
       "      <td>0</td>\n",
       "      <td>0</td>\n",
       "      <td>0</td>\n",
       "      <td>18.425526</td>\n",
       "      <td>20.917218</td>\n",
       "      <td>0</td>\n",
       "      <td>0</td>\n",
       "      <td>0</td>\n",
       "      <td>58.0</td>\n",
       "    </tr>\n",
       "    <tr>\n",
       "      <th>4</th>\n",
       "      <td>1</td>\n",
       "      <td>23</td>\n",
       "      <td>42</td>\n",
       "      <td>243.50</td>\n",
       "      <td>242.50</td>\n",
       "      <td>0</td>\n",
       "      <td>0</td>\n",
       "      <td>647</td>\n",
       "      <td>56</td>\n",
       "      <td>2.0</td>\n",
       "      <td>...</td>\n",
       "      <td>0</td>\n",
       "      <td>0</td>\n",
       "      <td>0</td>\n",
       "      <td>0</td>\n",
       "      <td>15.604487</td>\n",
       "      <td>15.572412</td>\n",
       "      <td>0</td>\n",
       "      <td>0</td>\n",
       "      <td>0</td>\n",
       "      <td>84.0</td>\n",
       "    </tr>\n",
       "  </tbody>\n",
       "</table>\n",
       "<p>5 rows × 41 columns</p>\n",
       "</div>"
      ],
      "text/plain": [
       "   week  center_id  meal_id  checkout_price  base_price  \\\n",
       "0     1         23       22          136.83      152.29   \n",
       "1     1         23       26          136.83      135.83   \n",
       "2     1         23       38          134.86      135.86   \n",
       "3     1         23       29          339.50      437.53   \n",
       "4     1         23       42          243.50      242.50   \n",
       "\n",
       "   emailer_for_promotion  homepage_featured  city_code  region_code  op_area  \\\n",
       "0                      0                  0        647           56      2.0   \n",
       "1                      0                  0        647           56      2.0   \n",
       "2                      0                  0        647           56      2.0   \n",
       "3                      0                  0        647           56      2.0   \n",
       "4                      0                  0        647           56      2.0   \n",
       "\n",
       "    ...     Italian  Thai  advanced  is_pop  sqrt_check  base_check  \\\n",
       "0   ...           0     1         0       0   11.697436   12.340583   \n",
       "1   ...           0     1         0       0   11.697436   11.654613   \n",
       "2   ...           0     1         0       0   11.612924   11.655900   \n",
       "3   ...           0     0         0       0   18.425526   20.917218   \n",
       "4   ...           0     0         0       0   15.604487   15.572412   \n",
       "\n",
       "   rice_promo  italian_promo  sandwich_promo  meal_op  \n",
       "0           0              0               0     44.0  \n",
       "1           0              0               0     52.0  \n",
       "2           0              0               0     76.0  \n",
       "3           0              0               0     58.0  \n",
       "4           0              0               0     84.0  \n",
       "\n",
       "[5 rows x 41 columns]"
      ]
     },
     "execution_count": 1047,
     "metadata": {},
     "output_type": "execute_result"
    }
   ],
   "source": [
    "train.head()"
   ]
  },
  {
   "cell_type": "code",
   "execution_count": 1077,
   "metadata": {},
   "outputs": [
    {
     "name": "stdout",
     "output_type": "stream",
     "text": [
      "<class 'pandas.core.frame.DataFrame'>\n",
      "Int64Index: 32573 entries, 0 to 32572\n",
      "Data columns (total 44 columns):\n",
      "week                     32573 non-null int64\n",
      "center_id                32573 non-null int64\n",
      "meal_id                  32573 non-null int64\n",
      "checkout_price           32573 non-null float64\n",
      "base_price               32573 non-null float64\n",
      "emailer_for_promotion    32573 non-null int64\n",
      "homepage_featured        32573 non-null int64\n",
      "city_code                32573 non-null int64\n",
      "region_code              32573 non-null int64\n",
      "op_area                  32573 non-null float64\n",
      "profit                   32573 non-null float64\n",
      "discount                 32573 non-null float64\n",
      "TYPE_A                   32573 non-null uint8\n",
      "TYPE_B                   32573 non-null uint8\n",
      "TYPE_C                   32573 non-null uint8\n",
      "Beverages                32573 non-null uint8\n",
      "Biryani                  32573 non-null uint8\n",
      "Desert                   32573 non-null uint8\n",
      "Extras                   32573 non-null uint8\n",
      "Fish                     32573 non-null uint8\n",
      "Other Snacks             32573 non-null uint8\n",
      "Pasta                    32573 non-null uint8\n",
      "Pizza                    32573 non-null uint8\n",
      "Rice Bowl                32573 non-null uint8\n",
      "Salad                    32573 non-null uint8\n",
      "Sandwich                 32573 non-null uint8\n",
      "Seafood                  32573 non-null uint8\n",
      "Soup                     32573 non-null uint8\n",
      "Starters                 32573 non-null uint8\n",
      "Continental              32573 non-null uint8\n",
      "Indian                   32573 non-null uint8\n",
      "Italian                  32573 non-null uint8\n",
      "Thai                     32573 non-null uint8\n",
      "advanced                 32573 non-null int64\n",
      "is_pop                   32573 non-null int64\n",
      "sqrt_check               32573 non-null float64\n",
      "base_check               32573 non-null float64\n",
      "rice_promo               32573 non-null int64\n",
      "italian_promo            32573 non-null int64\n",
      "sandwich_promo           32573 non-null int64\n",
      "meal_op                  32573 non-null float64\n",
      "cent_op                  32573 non-null float64\n",
      "email_pop                32573 non-null int64\n",
      "f1                       32573 non-null float64\n",
      "dtypes: float64(10), int64(13), uint8(21)\n",
      "memory usage: 6.6 MB\n"
     ]
    }
   ],
   "source": [
    "test.info()"
   ]
  },
  {
   "cell_type": "code",
   "execution_count": null,
   "metadata": {},
   "outputs": [],
   "source": []
  }
 ],
 "metadata": {
  "kernelspec": {
   "display_name": "Python 3",
   "language": "python",
   "name": "python3"
  },
  "language_info": {
   "codemirror_mode": {
    "name": "ipython",
    "version": 3
   },
   "file_extension": ".py",
   "mimetype": "text/x-python",
   "name": "python",
   "nbconvert_exporter": "python",
   "pygments_lexer": "ipython3",
   "version": "3.6.5"
  }
 },
 "nbformat": 4,
 "nbformat_minor": 2
}
