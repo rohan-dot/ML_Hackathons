{
  "cells": [
    {
      "metadata": {
        "trusted": true,
        "_uuid": "f6da6774674906c9c8857bcd7d6e0c3a3eeb9e77",
        "collapsed": true
      },
      "cell_type": "code",
      "source": "import pandas as pd\nimport numpy as np\nimport xgboost as xgb\nfrom sklearn.cross_validation import KFold\nfrom sklearn.ensemble import ExtraTreesRegressor\nfrom sklearn.ensemble import RandomForestRegressor\nfrom sklearn.ensemble import AdaBoostRegressor\nimport lightgbm as lgb\nfrom lightgbm import LGBMRegressor\nfrom sklearn.ensemble import GradientBoostingRegressor\nfrom sklearn.metrics import mean_absolute_error\nfrom sklearn.svm import SVR\n",
      "execution_count": null,
      "outputs": []
    },
    {
      "metadata": {
        "trusted": true,
        "_uuid": "91a7ee1c2579e196101b2993039d3d41541055df",
        "collapsed": true
      },
      "cell_type": "code",
      "source": "train = pd.read_csv('../input/geek.csv')\ntest = pd.read_csv('../input/geektest.csv')",
      "execution_count": null,
      "outputs": []
    },
    {
      "metadata": {
        "trusted": true,
        "_uuid": "0095716ca4159d296b48431c1434919306bf2cb6",
        "collapsed": true
      },
      "cell_type": "code",
      "source": "ID = 'ID'\nTARGET = 'Upvotes'\nNFOLDS = 4\nSEED = 0",
      "execution_count": null,
      "outputs": []
    },
    {
      "metadata": {
        "trusted": true,
        "_uuid": "1b388878ac464e680aecbef44a58b5fd854780e4",
        "collapsed": true
      },
      "cell_type": "code",
      "source": "one_hot_data = pd.concat([train, pd.get_dummies(train['Tag'])], axis=1)\none_hot_data = one_hot_data.drop('Tag', axis=1)\n\n# Print the first 10 rows of our data\none_hot_data[:10]\ntrain = one_hot_data[:]",
      "execution_count": null,
      "outputs": []
    },
    {
      "metadata": {
        "trusted": true,
        "_uuid": "e2a447a7de2ca8686c820af127d68239ddb5172b",
        "collapsed": true
      },
      "cell_type": "code",
      "source": "one_hot_data = pd.concat([test, pd.get_dummies(test['Tag'])], axis=1)\none_hot_data = one_hot_data.drop('Tag', axis=1)\n\n# Print the first 10 rows of our data\none_hot_data[:10]\ntest = one_hot_data[:]",
      "execution_count": null,
      "outputs": []
    },
    {
      "metadata": {
        "trusted": true,
        "_uuid": "3f17d000fc7cab5fd4e4449bd4ec1e3dd6e63876",
        "collapsed": true
      },
      "cell_type": "code",
      "source": "train = train.drop([\"ID\"],axis=1)\ny = train['Upvotes']\nX = train.drop(columns=['Upvotes'])",
      "execution_count": null,
      "outputs": []
    },
    {
      "metadata": {
        "trusted": true,
        "_uuid": "53772c7b15b097f1129f97eab342085f9923d346",
        "collapsed": true
      },
      "cell_type": "code",
      "source": "test = test.drop([\"ID\"],axis=1)",
      "execution_count": null,
      "outputs": []
    },
    {
      "metadata": {
        "trusted": true,
        "_uuid": "9ebcd5bef3011c49f351563367679d9b9a2b8108",
        "collapsed": true
      },
      "cell_type": "code",
      "source": "ntrain = X.shape[0]\nntest = test.shape[0]\ntrain_test = pd.concat((X, test)).reset_index(drop=True)",
      "execution_count": null,
      "outputs": []
    },
    {
      "metadata": {
        "trusted": true,
        "_uuid": "3f5b27576d4d056bda9baaad546c1a45f5a01e5b",
        "collapsed": true
      },
      "cell_type": "code",
      "source": "features = train.columns",
      "execution_count": null,
      "outputs": []
    },
    {
      "metadata": {
        "trusted": true,
        "_uuid": "b4efeb878b268c34c13bc8aad7312a17143ece01",
        "collapsed": true
      },
      "cell_type": "code",
      "source": "cats = [feat for feat in features if 'cat' in feat]\nfor feat in cats:\n    train_test[feat] = pd.factorize(train_test[feat], sort=True)[0]\n\nprint(train_test.head())",
      "execution_count": null,
      "outputs": []
    },
    {
      "metadata": {
        "trusted": true,
        "_uuid": "18a6256d151f703e9af6e300fa1903288f40e3be",
        "collapsed": true
      },
      "cell_type": "code",
      "source": "x_train = np.array(train_test.iloc[:ntrain,:])\nx_test = np.array(train_test.iloc[ntrain:,:])\n\nkf = KFold(ntrain, n_folds=NFOLDS, shuffle=True, random_state=SEED)",
      "execution_count": null,
      "outputs": []
    },
    {
      "metadata": {
        "trusted": true,
        "_uuid": "dbe2282c862d5f63021925410929e488fc56f4ad",
        "collapsed": true
      },
      "cell_type": "code",
      "source": "",
      "execution_count": null,
      "outputs": []
    },
    {
      "metadata": {
        "trusted": true,
        "_uuid": "a13f120d74b961afa0cda7c97377d67f6500ed85",
        "collapsed": true
      },
      "cell_type": "code",
      "source": "class SklearnHelper(object):\n    def __init__(self, clf, seed=0, params=None):\n        #params['random_state'] = seed\n        self.clf = clf(**params)\n\n    def train(self, x_train, y_train):\n        self.clf.fit(x_train, y_train)\n\n    def predict(self, x):\n        return self.clf.predict(x)\n    \n    def fit(self,x,y):\n        return self.clf.fit(x,y)\n    \n    def feature_importances(self,x,y):\n        print(self.clf.fit(x,y).feature_importances_)\nclass LGBWrapper(object):\n    \n    def __init__(self, clf, seed=0, params=None):\n        params['random_state'] = seed\n        self.clf = clf(**params)\n\n    def train(self, x_train, y):\n        \n        self.clf.fit(x_train, y)\n\n    def predict(self, x):\n        return (self.clf.predict(x))\n    \nclass SklearnWrapper(object):\n    def __init__(self, clf, seed=0, params=None):\n        params['random_state'] = seed\n        self.clf = clf(**params)\n\n    def train(self, x_train, y):\n        \n        self.clf.fit(x_train, y)\n\n    def predict(self, x):\n        return self.clf.predict(x)\n\n\nclass XgbWrapper(object):\n    def __init__(self, seed=0, params=None):\n        self.param = params\n        self.param['seed'] = seed\n        self.nrounds = params.pop('nrounds', 250)\n\n    def train(self, x_train, y):\n        dtrain = xgb.DMatrix(x_train, label=y)\n        self.gbdt = xgb.train(self.param, dtrain, self.nrounds)\n\n    def predict(self, x):\n        return self.gbdt.predict(xgb.DMatrix(x))\n",
      "execution_count": null,
      "outputs": []
    },
    {
      "metadata": {
        "trusted": true,
        "_uuid": "aabc01ef2750a331bde3be01035175b33f847c03",
        "collapsed": true
      },
      "cell_type": "code",
      "source": "def get_oof(clf):\n    oof_train = np.zeros((ntrain,))\n    oof_test = np.zeros((ntest,))\n    oof_test_skf = np.empty((NFOLDS, ntest))\n\n    for i, (train_index, test_index) in enumerate(kf):\n        x_tr = x_train[train_index]\n        y_tr = y[train_index]\n        x_te = x_train[test_index]\n\n        clf.train(x_tr, y_tr)\n\n        oof_train[test_index] = clf.predict(x_te)\n        oof_test_skf[i, :] = clf.predict(x_test)\n\n    oof_test[:] = oof_test_skf.mean(axis=0)\n    return oof_train.reshape(-1, 1), oof_test.reshape(-1, 1)",
      "execution_count": null,
      "outputs": []
    },
    {
      "metadata": {
        "trusted": true,
        "_uuid": "39ab25bb69cd9ed30f2c2c0a2725e4f38050684b",
        "collapsed": true
      },
      "cell_type": "code",
      "source": "et_params = {\n    'n_jobs': 16,\n    'n_estimators': 100,\n    'max_features': 0.5,\n    'max_depth': 12,\n    'min_samples_leaf': 2,\n}\n\nrf_params = {\n    'n_jobs': 16,\n    'n_estimators': 100,\n    'max_features': 0.2,\n    'max_depth': 8,\n    'min_samples_leaf': 2,\n}\n\nxgb_params = {'min_child_weight': 2.477811397259722, 'colsample_bytree': 0.5366763711556178, 'max_depth': 5, 'subsample': 0.6189058730703388, 'gamma': 5.6461161593168505, 'alpha': 5.861337956829854}\n\nada_params = {\n    'n_estimators': 500,\n    'learning_rate' : 0.75\n}\nsvr_params = {\n    'kernel' : 'rbf',\n    'C' : 0.025\n    }\ngb_params = {\n    'n_estimators': 500,\n     #'max_features': 0.2,\n    'max_depth': 5,\n    'min_samples_leaf': 2,\n    'verbose': 0\n}\nlgb_params = params = {\n        'boosting_type':'gbdt',\n        'objective': 'regression',\n        'nthread': -1,\n        'verbose': 0,\n        'num_leaves': 31,\n        'learning_rate': 0.05,\n        'max_depth': -1,\n        'subsample': 0.8,\n        'subsample_freq': 1,\n        'colsample_bytree': 0.6,\n        'reg_aplha': 1,\n        'reg_lambda': 0.001,\n        'metric': 'rmse',\n        'min_split_gain': 0.5,\n        'min_child_weight': 1,\n        'min_child_samples': 10,\n        'scale_pos_weight':1     \n    }",
      "execution_count": null,
      "outputs": []
    },
    {
      "metadata": {
        "trusted": true,
        "_uuid": "408b7e7c7f4f1703a9175423a282025523562dc2",
        "collapsed": true
      },
      "cell_type": "code",
      "source": "xg = XgbWrapper(seed=SEED, params=xgb_params)",
      "execution_count": null,
      "outputs": []
    },
    {
      "metadata": {
        "trusted": true,
        "_uuid": "74073f3330b96f8fc5292a0e9eba920c94dd3caa",
        "collapsed": true
      },
      "cell_type": "code",
      "source": "lgb = LGBWrapper(clf=LGBMRegressor,seed=SEED,params=lgb_params)",
      "execution_count": null,
      "outputs": []
    },
    {
      "metadata": {
        "trusted": true,
        "_uuid": "ae281bfa21d9d1081680e40cfc203a61b5ede86d",
        "collapsed": true
      },
      "cell_type": "code",
      "source": "ada = SklearnWrapper(clf=AdaBoostRegressor, seed=SEED, params=ada_params)",
      "execution_count": null,
      "outputs": []
    },
    {
      "metadata": {
        "trusted": true,
        "_uuid": "a811796789232ea90a4ea04e5026da02a8f1e55f",
        "collapsed": true
      },
      "cell_type": "code",
      "source": "#svr = SklearnHelper(clf=SVR,seed=SEED,params = svr_params)\ngbt = SklearnWrapper(clf=GradientBoostingRegressor,seed=SEED,params = gb_params)",
      "execution_count": null,
      "outputs": []
    },
    {
      "metadata": {
        "trusted": true,
        "_uuid": "ea84a440fc59ad56c9ef61fdc5289aebbeee1047",
        "collapsed": true
      },
      "cell_type": "code",
      "source": "svr = SklearnHelper(clf=SVR,seed=SEED,params = svr_params)",
      "execution_count": null,
      "outputs": []
    },
    {
      "metadata": {
        "trusted": true,
        "_uuid": "6e4d9e60566fff53c1e77bbdd8fc81445dafdad9",
        "collapsed": true
      },
      "cell_type": "code",
      "source": "et = SklearnWrapper(clf=ExtraTreesRegressor, seed=SEED, params=et_params)",
      "execution_count": null,
      "outputs": []
    },
    {
      "metadata": {
        "trusted": true,
        "_uuid": "23e3d8b3da6ab6cb105fd87af51e0fac71805b0f",
        "collapsed": true
      },
      "cell_type": "code",
      "source": "rf = SklearnWrapper(clf=RandomForestRegressor, seed=SEED, params=rf_params)",
      "execution_count": null,
      "outputs": []
    },
    {
      "metadata": {
        "trusted": true,
        "_uuid": "b733e1fa3704c412a2afd6058852a6ff8e0de17e",
        "collapsed": true
      },
      "cell_type": "code",
      "source": "lgb_oof_train,lgb_oof_test = get_oof(lgb)",
      "execution_count": null,
      "outputs": []
    },
    {
      "metadata": {
        "trusted": true,
        "_uuid": "1a07cc41eba9dc3b8ac184565cb8110d31155989",
        "collapsed": true
      },
      "cell_type": "code",
      "source": "xg_oof_train, xg_oof_test = get_oof(xg)",
      "execution_count": null,
      "outputs": []
    },
    {
      "metadata": {
        "trusted": true,
        "collapsed": true,
        "_uuid": "1a5a17e2d2a3675c8f82702c6b7d2fb11ee8747c"
      },
      "cell_type": "code",
      "source": "ada_oof_train , ada_oof_test = get_oof(ada)",
      "execution_count": null,
      "outputs": []
    },
    {
      "metadata": {
        "trusted": true,
        "_uuid": "819ee1b4ca3bcec2e79b4520b2dae185219a2957",
        "collapsed": true
      },
      "cell_type": "code",
      "source": "svr_oof_train , svr_oof_test = get_oof(svr)",
      "execution_count": null,
      "outputs": []
    },
    {
      "metadata": {
        "trusted": true,
        "_uuid": "8205f0abc9899e625f179836297c0a60ef96dc50",
        "collapsed": true
      },
      "cell_type": "code",
      "source": "et_oof_train, et_oof_test = get_oof(et)\n",
      "execution_count": null,
      "outputs": []
    },
    {
      "metadata": {
        "trusted": true,
        "collapsed": true,
        "_uuid": "01354dcc307f946f5c56403232ecc9373c27c245"
      },
      "cell_type": "code",
      "source": "rf_oof_train, rf_oof_test = get_oof(rf)",
      "execution_count": null,
      "outputs": []
    },
    {
      "metadata": {
        "trusted": true,
        "collapsed": true,
        "_uuid": "318a1bcb51a10172a8ba7bbcae107d5295733a9f"
      },
      "cell_type": "code",
      "source": "gb_oof_train , gb_oob_test = get_oof(gbt)",
      "execution_count": null,
      "outputs": []
    },
    {
      "metadata": {
        "trusted": true,
        "_uuid": "c5b53b9c902cc3fdb958314793b40d55edee259c",
        "collapsed": true
      },
      "cell_type": "code",
      "source": "x_train = np.concatenate((xg_oof_train, et_oof_train, rf_oof_train,ada_oof_train,gb_oof_train,lgb_oof_train), axis=1)\nx_test = np.concatenate((xg_oof_test, et_oof_test, rf_oof_test,ada_oof_test,gb_oob_test,lgb_oof_test), axis=1)",
      "execution_count": null,
      "outputs": []
    },
    {
      "metadata": {
        "trusted": true,
        "_uuid": "8be1ef6be3cb5197fc7b04647ef9f16aee4716d4",
        "collapsed": true
      },
      "cell_type": "code",
      "source": "print(\"{},{}\".format(x_train.shape, x_test.shape))\n",
      "execution_count": null,
      "outputs": []
    },
    {
      "metadata": {
        "trusted": true,
        "_uuid": "5916159d63b0b02079eda50641192555364518a4",
        "collapsed": true
      },
      "cell_type": "code",
      "source": "dtrain = xgb.DMatrix(x_train, label=y)\ndtest = xgb.DMatrix(x_test)",
      "execution_count": null,
      "outputs": []
    },
    {
      "metadata": {
        "trusted": true,
        "_uuid": "4fb1dd8cbdc53caf23fefd8a92196ed1db60b4ad",
        "collapsed": true
      },
      "cell_type": "code",
      "source": "xgb_params ={'min_child_weight': 2.477811397259722, 'colsample_bytree': 0.5366763711556178, 'max_depth': 5, 'subsample': 0.6189058730703388, 'gamma': 5.6461161593168505, 'alpha': 5.861337956829854}",
      "execution_count": null,
      "outputs": []
    },
    {
      "metadata": {
        "trusted": true,
        "_uuid": "078c2defb3dfcf0d6c93a2563a63eae5df5653fc",
        "collapsed": true
      },
      "cell_type": "code",
      "source": "res = xgb.cv(xgb_params, dtrain, num_boost_round=500, nfold=4, seed=SEED, stratified=False,\n             early_stopping_rounds=25, verbose_eval=10, show_stdv=True)",
      "execution_count": null,
      "outputs": []
    },
    {
      "metadata": {
        "trusted": true,
        "_uuid": "85068a5fb47b9cc950c09c9833e7a83bef7ef6de",
        "collapsed": true
      },
      "cell_type": "code",
      "source": "best_nrounds = res.shape[0] - 1\ncv_mean = res.iloc[-1, 0]\ncv_std = res.iloc[-1, 1]\n\nprint('Ensemble-CV: {0}+{1}'.format(cv_mean, cv_std))\n",
      "execution_count": null,
      "outputs": []
    },
    {
      "metadata": {
        "trusted": true,
        "collapsed": true,
        "_uuid": "e28cffd94475ca0d840a22fba90f9795dfd3cb85"
      },
      "cell_type": "code",
      "source": "gbdt = xgb.train(xgb_params, dtrain, best_nrounds)\n",
      "execution_count": null,
      "outputs": []
    },
    {
      "metadata": {
        "trusted": true,
        "_uuid": "54cc36d03430c376607e0575af91547e7d52abd1",
        "collapsed": true
      },
      "cell_type": "code",
      "source": "a = pd.read_csv('../input/geektest.csv')",
      "execution_count": null,
      "outputs": []
    },
    {
      "metadata": {
        "trusted": true,
        "collapsed": true,
        "_uuid": "25f17557bb45ba03e87fb9f49c2241f08705c76c"
      },
      "cell_type": "code",
      "source": "y_pred = gbdt.predict(dtest)",
      "execution_count": null,
      "outputs": []
    },
    {
      "metadata": {
        "trusted": true,
        "_uuid": "2243b34a089d90ec82090411e2c3b064166f8b20",
        "collapsed": true
      },
      "cell_type": "code",
      "source": "submission = pd.DataFrame({\n        \"ID\": a.ID,\n        \"Upvotes\": y_pred\n})\n\nsubmission.to_csv('ensemble1.csv',index=False)\nsubmission.head()\n",
      "execution_count": null,
      "outputs": []
    },
    {
      "metadata": {
        "trusted": true,
        "collapsed": true,
        "_uuid": "6e96b885be90a185e27843bc341f36bc809dfd2b"
      },
      "cell_type": "code",
      "source": "",
      "execution_count": null,
      "outputs": []
    }
  ],
  "metadata": {
    "kernelspec": {
      "display_name": "Python 3",
      "language": "python",
      "name": "python3"
    },
    "language_info": {
      "name": "python",
      "version": "3.6.4",
      "mimetype": "text/x-python",
      "codemirror_mode": {
        "name": "ipython",
        "version": 3
      },
      "pygments_lexer": "ipython3",
      "nbconvert_exporter": "python",
      "file_extension": ".py"
    }
  },
  "nbformat": 4,
  "nbformat_minor": 1
}