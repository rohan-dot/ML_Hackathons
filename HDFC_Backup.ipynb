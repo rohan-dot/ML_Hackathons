{
 "cells": [
  {
   "cell_type": "code",
   "execution_count": 1,
   "metadata": {},
   "outputs": [],
   "source": [
    "import numpy as np\n",
    "import pandas as pd\n"
   ]
  },
  {
   "cell_type": "code",
   "execution_count": 2,
   "metadata": {},
   "outputs": [
    {
     "name": "stderr",
     "output_type": "stream",
     "text": [
      "C:\\Users\\rlee3104\\AppData\\Local\\Continuum\\anaconda3\\lib\\site-packages\\IPython\\core\\interactiveshell.py:3049: DtypeWarning: Columns (746,835) have mixed types. Specify dtype option on import or set low_memory=False.\n",
      "  interactivity=interactivity, compiler=compiler, result=result)\n"
     ]
    }
   ],
   "source": [
    "train = pd.read_csv(r'C:\\Users\\rlee3104\\Desktop\\HDFC\\d407ebe0db9a11e9\\DataSet\\Train.csv')"
   ]
  },
  {
   "cell_type": "code",
   "execution_count": 3,
   "metadata": {},
   "outputs": [
    {
     "data": {
      "text/plain": [
       "0    15760\n",
       "1     1761\n",
       "Name: Col2, dtype: int64"
      ]
     },
     "execution_count": 3,
     "metadata": {},
     "output_type": "execute_result"
    }
   ],
   "source": [
    "trainX = pd.read_csv(r'C:\\Users\\rlee3104\\Desktop\\HDFC\\d407ebe0db9a11e9\\DataSet\\Train.csv')\n",
    "trainX['Col2'].value_counts()"
   ]
  },
  {
   "cell_type": "code",
   "execution_count": 4,
   "metadata": {},
   "outputs": [
    {
     "name": "stderr",
     "output_type": "stream",
     "text": [
      "C:\\Users\\rlee3104\\AppData\\Local\\Continuum\\anaconda3\\lib\\site-packages\\IPython\\core\\interactiveshell.py:3049: DtypeWarning: Columns (700,731,740,752,761,789,811,820,829,841,850) have mixed types. Specify dtype option on import or set low_memory=False.\n",
      "  interactivity=interactivity, compiler=compiler, result=result)\n"
     ]
    }
   ],
   "source": [
    "test = pd.read_csv(r'C:\\Users\\rlee3104\\Desktop\\HDFC\\d407ebe0db9a11e9\\DataSet\\Test.csv')"
   ]
  },
  {
   "cell_type": "code",
   "execution_count": 5,
   "metadata": {},
   "outputs": [],
   "source": [
    "import seaborn as sns\n",
    "from scipy import stats\n",
    "import matplotlib.pyplot as plt \n",
    "from scipy.stats import norm, skew "
   ]
  },
  {
   "cell_type": "code",
   "execution_count": 6,
   "metadata": {},
   "outputs": [
    {
     "name": "stderr",
     "output_type": "stream",
     "text": [
      "C:\\Users\\rlee3104\\AppData\\Local\\Continuum\\anaconda3\\lib\\site-packages\\ipykernel_launcher.py:4: FutureWarning: Sorting because non-concatenation axis is not aligned. A future version\n",
      "of pandas will change to not sort by default.\n",
      "\n",
      "To accept the future behavior, pass 'sort=False'.\n",
      "\n",
      "To retain the current behavior and silence the warning, pass 'sort=True'.\n",
      "\n",
      "  after removing the cwd from sys.path.\n"
     ]
    },
    {
     "name": "stdout",
     "output_type": "stream",
     "text": [
      "all_data size is : (37963, 2394)\n"
     ]
    }
   ],
   "source": [
    "ntrain = train.shape[0]\n",
    "ntest = test.shape[0]\n",
    "y_train = train.Col2.values\n",
    "all_data = pd.concat((train, test)).reset_index(drop=True)\n",
    "all_data.drop(['Col2'], axis=1, inplace=True)\n",
    "print(\"all_data size is : {}\".format(all_data.shape))"
   ]
  },
  {
   "cell_type": "code",
   "execution_count": 7,
   "metadata": {},
   "outputs": [
    {
     "data": {
      "text/html": [
       "<div>\n",
       "<style scoped>\n",
       "    .dataframe tbody tr th:only-of-type {\n",
       "        vertical-align: middle;\n",
       "    }\n",
       "\n",
       "    .dataframe tbody tr th {\n",
       "        vertical-align: top;\n",
       "    }\n",
       "\n",
       "    .dataframe thead th {\n",
       "        text-align: right;\n",
       "    }\n",
       "</style>\n",
       "<table border=\"1\" class=\"dataframe\">\n",
       "  <thead>\n",
       "    <tr style=\"text-align: right;\">\n",
       "      <th></th>\n",
       "      <th>Missing Ratio</th>\n",
       "    </tr>\n",
       "  </thead>\n",
       "  <tbody>\n",
       "    <tr>\n",
       "      <th>Col266</th>\n",
       "      <td>99.957854</td>\n",
       "    </tr>\n",
       "    <tr>\n",
       "      <th>Col288</th>\n",
       "      <td>99.957854</td>\n",
       "    </tr>\n",
       "    <tr>\n",
       "      <th>Col813</th>\n",
       "      <td>99.957854</td>\n",
       "    </tr>\n",
       "    <tr>\n",
       "      <th>Col485</th>\n",
       "      <td>99.957854</td>\n",
       "    </tr>\n",
       "    <tr>\n",
       "      <th>Col724</th>\n",
       "      <td>99.957854</td>\n",
       "    </tr>\n",
       "    <tr>\n",
       "      <th>Col463</th>\n",
       "      <td>99.957854</td>\n",
       "    </tr>\n",
       "    <tr>\n",
       "      <th>Col171</th>\n",
       "      <td>99.141269</td>\n",
       "    </tr>\n",
       "    <tr>\n",
       "      <th>Col930</th>\n",
       "      <td>97.884783</td>\n",
       "    </tr>\n",
       "    <tr>\n",
       "      <th>Col40</th>\n",
       "      <td>97.745173</td>\n",
       "    </tr>\n",
       "    <tr>\n",
       "      <th>Col566</th>\n",
       "      <td>96.957564</td>\n",
       "    </tr>\n",
       "    <tr>\n",
       "      <th>Col832</th>\n",
       "      <td>96.957564</td>\n",
       "    </tr>\n",
       "    <tr>\n",
       "      <th>Col545</th>\n",
       "      <td>96.957564</td>\n",
       "    </tr>\n",
       "    <tr>\n",
       "      <th>Col743</th>\n",
       "      <td>96.931223</td>\n",
       "    </tr>\n",
       "    <tr>\n",
       "      <th>Col348</th>\n",
       "      <td>96.931223</td>\n",
       "    </tr>\n",
       "    <tr>\n",
       "      <th>Col369</th>\n",
       "      <td>96.931223</td>\n",
       "    </tr>\n",
       "    <tr>\n",
       "      <th>Col925</th>\n",
       "      <td>96.746832</td>\n",
       "    </tr>\n",
       "    <tr>\n",
       "      <th>Col38</th>\n",
       "      <td>96.731028</td>\n",
       "    </tr>\n",
       "    <tr>\n",
       "      <th>Col920</th>\n",
       "      <td>96.717857</td>\n",
       "    </tr>\n",
       "    <tr>\n",
       "      <th>Col570</th>\n",
       "      <td>96.715223</td>\n",
       "    </tr>\n",
       "    <tr>\n",
       "      <th>Col836</th>\n",
       "      <td>96.715223</td>\n",
       "    </tr>\n",
       "    <tr>\n",
       "      <th>Col549</th>\n",
       "      <td>96.715223</td>\n",
       "    </tr>\n",
       "    <tr>\n",
       "      <th>Col747</th>\n",
       "      <td>96.691515</td>\n",
       "    </tr>\n",
       "    <tr>\n",
       "      <th>Col373</th>\n",
       "      <td>96.691515</td>\n",
       "    </tr>\n",
       "    <tr>\n",
       "      <th>Col352</th>\n",
       "      <td>96.691515</td>\n",
       "    </tr>\n",
       "    <tr>\n",
       "      <th>Col556</th>\n",
       "      <td>96.101467</td>\n",
       "    </tr>\n",
       "    <tr>\n",
       "      <th>Col822</th>\n",
       "      <td>96.098833</td>\n",
       "    </tr>\n",
       "    <tr>\n",
       "      <th>Col535</th>\n",
       "      <td>96.098833</td>\n",
       "    </tr>\n",
       "    <tr>\n",
       "      <th>Col359</th>\n",
       "      <td>96.085662</td>\n",
       "    </tr>\n",
       "    <tr>\n",
       "      <th>Col733</th>\n",
       "      <td>96.083028</td>\n",
       "    </tr>\n",
       "    <tr>\n",
       "      <th>Col338</th>\n",
       "      <td>96.083028</td>\n",
       "    </tr>\n",
       "  </tbody>\n",
       "</table>\n",
       "</div>"
      ],
      "text/plain": [
       "        Missing Ratio\n",
       "Col266      99.957854\n",
       "Col288      99.957854\n",
       "Col813      99.957854\n",
       "Col485      99.957854\n",
       "Col724      99.957854\n",
       "Col463      99.957854\n",
       "Col171      99.141269\n",
       "Col930      97.884783\n",
       "Col40       97.745173\n",
       "Col566      96.957564\n",
       "Col832      96.957564\n",
       "Col545      96.957564\n",
       "Col743      96.931223\n",
       "Col348      96.931223\n",
       "Col369      96.931223\n",
       "Col925      96.746832\n",
       "Col38       96.731028\n",
       "Col920      96.717857\n",
       "Col570      96.715223\n",
       "Col836      96.715223\n",
       "Col549      96.715223\n",
       "Col747      96.691515\n",
       "Col373      96.691515\n",
       "Col352      96.691515\n",
       "Col556      96.101467\n",
       "Col822      96.098833\n",
       "Col535      96.098833\n",
       "Col359      96.085662\n",
       "Col733      96.083028\n",
       "Col338      96.083028"
      ]
     },
     "execution_count": 7,
     "metadata": {},
     "output_type": "execute_result"
    }
   ],
   "source": [
    "all_data_na = (all_data.isnull().sum() / len(all_data)) * 100\n",
    "all_data_na = all_data_na.drop(all_data_na[all_data_na == 0].index).sort_values(ascending=False)[:30]\n",
    "missing_data = pd.DataFrame({'Missing Ratio' :all_data_na})\n",
    "missing_data.head(1000)"
   ]
  },
  {
   "cell_type": "code",
   "execution_count": 8,
   "metadata": {},
   "outputs": [],
   "source": [
    "all_data = all_data.loc[:, all_data.isnull().mean() < .70]"
   ]
  },
  {
   "cell_type": "code",
   "execution_count": 9,
   "metadata": {},
   "outputs": [],
   "source": [
    "all_data = all_data.fillna(all_data.mean())"
   ]
  },
  {
   "cell_type": "code",
   "execution_count": 10,
   "metadata": {},
   "outputs": [],
   "source": [
    "all_data.drop(['Col1'], axis=1,inplace= True)\n"
   ]
  },
  {
   "cell_type": "code",
   "execution_count": 11,
   "metadata": {},
   "outputs": [
    {
     "name": "stdout",
     "output_type": "stream",
     "text": [
      "\n",
      "Skew in numerical features: \n",
      "\n"
     ]
    },
    {
     "data": {
      "text/html": [
       "<div>\n",
       "<style scoped>\n",
       "    .dataframe tbody tr th:only-of-type {\n",
       "        vertical-align: middle;\n",
       "    }\n",
       "\n",
       "    .dataframe tbody tr th {\n",
       "        vertical-align: top;\n",
       "    }\n",
       "\n",
       "    .dataframe thead th {\n",
       "        text-align: right;\n",
       "    }\n",
       "</style>\n",
       "<table border=\"1\" class=\"dataframe\">\n",
       "  <thead>\n",
       "    <tr style=\"text-align: right;\">\n",
       "      <th></th>\n",
       "      <th>Skew</th>\n",
       "    </tr>\n",
       "  </thead>\n",
       "  <tbody>\n",
       "    <tr>\n",
       "      <th>Col515</th>\n",
       "      <td>191.330787</td>\n",
       "    </tr>\n",
       "    <tr>\n",
       "      <th>Col513</th>\n",
       "      <td>190.838192</td>\n",
       "    </tr>\n",
       "    <tr>\n",
       "      <th>Col435</th>\n",
       "      <td>190.759172</td>\n",
       "    </tr>\n",
       "    <tr>\n",
       "      <th>Col665</th>\n",
       "      <td>190.678296</td>\n",
       "    </tr>\n",
       "    <tr>\n",
       "      <th>Col663</th>\n",
       "      <td>189.993690</td>\n",
       "    </tr>\n",
       "    <tr>\n",
       "      <th>Col631</th>\n",
       "      <td>189.922024</td>\n",
       "    </tr>\n",
       "    <tr>\n",
       "      <th>Col179</th>\n",
       "      <td>180.788394</td>\n",
       "    </tr>\n",
       "    <tr>\n",
       "      <th>Col22</th>\n",
       "      <td>170.226486</td>\n",
       "    </tr>\n",
       "    <tr>\n",
       "      <th>Col332</th>\n",
       "      <td>163.298663</td>\n",
       "    </tr>\n",
       "    <tr>\n",
       "      <th>Col529</th>\n",
       "      <td>163.209865</td>\n",
       "    </tr>\n",
       "    <tr>\n",
       "      <th>Col331</th>\n",
       "      <td>163.056274</td>\n",
       "    </tr>\n",
       "    <tr>\n",
       "      <th>Col528</th>\n",
       "      <td>162.968694</td>\n",
       "    </tr>\n",
       "    <tr>\n",
       "      <th>Col676</th>\n",
       "      <td>159.313355</td>\n",
       "    </tr>\n",
       "    <tr>\n",
       "      <th>Col907</th>\n",
       "      <td>156.156501</td>\n",
       "    </tr>\n",
       "    <tr>\n",
       "      <th>Col909</th>\n",
       "      <td>156.130930</td>\n",
       "    </tr>\n",
       "    <tr>\n",
       "      <th>Col595</th>\n",
       "      <td>151.549713</td>\n",
       "    </tr>\n",
       "    <tr>\n",
       "      <th>Col679</th>\n",
       "      <td>151.391308</td>\n",
       "    </tr>\n",
       "    <tr>\n",
       "      <th>Col202</th>\n",
       "      <td>150.419551</td>\n",
       "    </tr>\n",
       "    <tr>\n",
       "      <th>Col399</th>\n",
       "      <td>149.845251</td>\n",
       "    </tr>\n",
       "    <tr>\n",
       "      <th>Col904</th>\n",
       "      <td>149.176709</td>\n",
       "    </tr>\n",
       "    <tr>\n",
       "      <th>Col905</th>\n",
       "      <td>149.114163</td>\n",
       "    </tr>\n",
       "    <tr>\n",
       "      <th>Col634</th>\n",
       "      <td>147.264025</td>\n",
       "    </tr>\n",
       "    <tr>\n",
       "      <th>Col928</th>\n",
       "      <td>145.297726</td>\n",
       "    </tr>\n",
       "    <tr>\n",
       "      <th>Col900</th>\n",
       "      <td>144.713949</td>\n",
       "    </tr>\n",
       "    <tr>\n",
       "      <th>Col898</th>\n",
       "      <td>144.631018</td>\n",
       "    </tr>\n",
       "    <tr>\n",
       "      <th>Col891</th>\n",
       "      <td>142.900998</td>\n",
       "    </tr>\n",
       "    <tr>\n",
       "      <th>Col889</th>\n",
       "      <td>142.783040</td>\n",
       "    </tr>\n",
       "    <tr>\n",
       "      <th>Col896</th>\n",
       "      <td>137.392520</td>\n",
       "    </tr>\n",
       "    <tr>\n",
       "      <th>Col895</th>\n",
       "      <td>137.087660</td>\n",
       "    </tr>\n",
       "    <tr>\n",
       "      <th>Col887</th>\n",
       "      <td>136.028659</td>\n",
       "    </tr>\n",
       "    <tr>\n",
       "      <th>...</th>\n",
       "      <td>...</td>\n",
       "    </tr>\n",
       "    <tr>\n",
       "      <th>Col2061</th>\n",
       "      <td>5.942215</td>\n",
       "    </tr>\n",
       "    <tr>\n",
       "      <th>Col1553</th>\n",
       "      <td>5.919950</td>\n",
       "    </tr>\n",
       "    <tr>\n",
       "      <th>Col2151</th>\n",
       "      <td>5.905871</td>\n",
       "    </tr>\n",
       "    <tr>\n",
       "      <th>Col431</th>\n",
       "      <td>5.851511</td>\n",
       "    </tr>\n",
       "    <tr>\n",
       "      <th>Col1643</th>\n",
       "      <td>5.849922</td>\n",
       "    </tr>\n",
       "    <tr>\n",
       "      <th>Col2241</th>\n",
       "      <td>5.832098</td>\n",
       "    </tr>\n",
       "    <tr>\n",
       "      <th>Col2331</th>\n",
       "      <td>5.806091</td>\n",
       "    </tr>\n",
       "    <tr>\n",
       "      <th>Col1331</th>\n",
       "      <td>5.738050</td>\n",
       "    </tr>\n",
       "    <tr>\n",
       "      <th>Col1421</th>\n",
       "      <td>5.704601</td>\n",
       "    </tr>\n",
       "    <tr>\n",
       "      <th>Col642</th>\n",
       "      <td>5.678757</td>\n",
       "    </tr>\n",
       "    <tr>\n",
       "      <th>Col496</th>\n",
       "      <td>5.678236</td>\n",
       "    </tr>\n",
       "    <tr>\n",
       "      <th>Col299</th>\n",
       "      <td>5.676534</td>\n",
       "    </tr>\n",
       "    <tr>\n",
       "      <th>Col1511</th>\n",
       "      <td>5.633425</td>\n",
       "    </tr>\n",
       "    <tr>\n",
       "      <th>Col423</th>\n",
       "      <td>5.621751</td>\n",
       "    </tr>\n",
       "    <tr>\n",
       "      <th>Col226</th>\n",
       "      <td>5.620216</td>\n",
       "    </tr>\n",
       "    <tr>\n",
       "      <th>Col1601</th>\n",
       "      <td>5.609312</td>\n",
       "    </tr>\n",
       "    <tr>\n",
       "      <th>Col872</th>\n",
       "      <td>5.451845</td>\n",
       "    </tr>\n",
       "    <tr>\n",
       "      <th>Col646</th>\n",
       "      <td>5.447964</td>\n",
       "    </tr>\n",
       "    <tr>\n",
       "      <th>Col492</th>\n",
       "      <td>5.428147</td>\n",
       "    </tr>\n",
       "    <tr>\n",
       "      <th>Col295</th>\n",
       "      <td>5.421819</td>\n",
       "    </tr>\n",
       "    <tr>\n",
       "      <th>Col619</th>\n",
       "      <td>5.364687</td>\n",
       "    </tr>\n",
       "    <tr>\n",
       "      <th>Col243</th>\n",
       "      <td>5.327705</td>\n",
       "    </tr>\n",
       "    <tr>\n",
       "      <th>Col609</th>\n",
       "      <td>5.323662</td>\n",
       "    </tr>\n",
       "    <tr>\n",
       "      <th>Col234</th>\n",
       "      <td>5.289144</td>\n",
       "    </tr>\n",
       "    <tr>\n",
       "      <th>Col35</th>\n",
       "      <td>5.265701</td>\n",
       "    </tr>\n",
       "    <tr>\n",
       "      <th>Col873</th>\n",
       "      <td>5.225909</td>\n",
       "    </tr>\n",
       "    <tr>\n",
       "      <th>Col413</th>\n",
       "      <td>5.203667</td>\n",
       "    </tr>\n",
       "    <tr>\n",
       "      <th>Col216</th>\n",
       "      <td>5.202341</td>\n",
       "    </tr>\n",
       "    <tr>\n",
       "      <th>Col586</th>\n",
       "      <td>5.028376</td>\n",
       "    </tr>\n",
       "    <tr>\n",
       "      <th>Col641</th>\n",
       "      <td>4.976125</td>\n",
       "    </tr>\n",
       "  </tbody>\n",
       "</table>\n",
       "<p>500 rows × 1 columns</p>\n",
       "</div>"
      ],
      "text/plain": [
       "               Skew\n",
       "Col515   191.330787\n",
       "Col513   190.838192\n",
       "Col435   190.759172\n",
       "Col665   190.678296\n",
       "Col663   189.993690\n",
       "Col631   189.922024\n",
       "Col179   180.788394\n",
       "Col22    170.226486\n",
       "Col332   163.298663\n",
       "Col529   163.209865\n",
       "Col331   163.056274\n",
       "Col528   162.968694\n",
       "Col676   159.313355\n",
       "Col907   156.156501\n",
       "Col909   156.130930\n",
       "Col595   151.549713\n",
       "Col679   151.391308\n",
       "Col202   150.419551\n",
       "Col399   149.845251\n",
       "Col904   149.176709\n",
       "Col905   149.114163\n",
       "Col634   147.264025\n",
       "Col928   145.297726\n",
       "Col900   144.713949\n",
       "Col898   144.631018\n",
       "Col891   142.900998\n",
       "Col889   142.783040\n",
       "Col896   137.392520\n",
       "Col895   137.087660\n",
       "Col887   136.028659\n",
       "...             ...\n",
       "Col2061    5.942215\n",
       "Col1553    5.919950\n",
       "Col2151    5.905871\n",
       "Col431     5.851511\n",
       "Col1643    5.849922\n",
       "Col2241    5.832098\n",
       "Col2331    5.806091\n",
       "Col1331    5.738050\n",
       "Col1421    5.704601\n",
       "Col642     5.678757\n",
       "Col496     5.678236\n",
       "Col299     5.676534\n",
       "Col1511    5.633425\n",
       "Col423     5.621751\n",
       "Col226     5.620216\n",
       "Col1601    5.609312\n",
       "Col872     5.451845\n",
       "Col646     5.447964\n",
       "Col492     5.428147\n",
       "Col295     5.421819\n",
       "Col619     5.364687\n",
       "Col243     5.327705\n",
       "Col609     5.323662\n",
       "Col234     5.289144\n",
       "Col35      5.265701\n",
       "Col873     5.225909\n",
       "Col413     5.203667\n",
       "Col216     5.202341\n",
       "Col586     5.028376\n",
       "Col641     4.976125\n",
       "\n",
       "[500 rows x 1 columns]"
      ]
     },
     "execution_count": 11,
     "metadata": {},
     "output_type": "execute_result"
    }
   ],
   "source": [
    "numeric_feats = all_data.dtypes[all_data.dtypes != \"object\"].index\n",
    "\n",
    "# Check the skew of all numerical features\n",
    "skewed_feats = all_data[numeric_feats].apply(lambda x: skew(x.dropna())).sort_values(ascending=False)\n",
    "print(\"\\nSkew in numerical features: \\n\")\n",
    "skewness = pd.DataFrame({'Skew' :skewed_feats})\n",
    "skewness.head(500)"
   ]
  },
  {
   "cell_type": "code",
   "execution_count": 12,
   "metadata": {},
   "outputs": [
    {
     "name": "stdout",
     "output_type": "stream",
     "text": [
      "There are 2200 skewed numerical features to Box Cox transform\n"
     ]
    }
   ],
   "source": [
    "skewness = skewness[abs(skewness) > 0.75]\n",
    "print(\"There are {} skewed numerical features to Box Cox transform\".format(skewness.shape[0]))\n",
    "\n",
    "from scipy.special import boxcox1p\n",
    "skewed_features = skewness.index\n",
    "lam = 0.15\n",
    "for feat in skewed_features:\n",
    "    #all_data[feat] += 1\n",
    "    all_data[feat] = boxcox1p(all_data[feat], lam)\n",
    "    "
   ]
  },
  {
   "cell_type": "code",
   "execution_count": 13,
   "metadata": {},
   "outputs": [],
   "source": [
    "train = all_data[:ntrain]\n",
    "test = all_data[ntrain:]"
   ]
  },
  {
   "cell_type": "code",
   "execution_count": 14,
   "metadata": {},
   "outputs": [],
   "source": [
    "from sklearn.model_selection import train_test_split, cross_val_score\n",
    "\n",
    "X_train, X_test, y_train, y_test = train_test_split(\n",
    "    train, y_train, test_size=0.1, random_state=42\n",
    ")"
   ]
  },
  {
   "cell_type": "code",
   "execution_count": 15,
   "metadata": {},
   "outputs": [
    {
     "name": "stderr",
     "output_type": "stream",
     "text": [
      "C:\\Users\\rlee3104\\AppData\\Local\\Continuum\\anaconda3\\lib\\site-packages\\ipykernel_launcher.py:1: SettingWithCopyWarning: \n",
      "A value is trying to be set on a copy of a slice from a DataFrame.\n",
      "Try using .loc[row_indexer,col_indexer] = value instead\n",
      "\n",
      "See the caveats in the documentation: http://pandas.pydata.org/pandas-docs/stable/indexing.html#indexing-view-versus-copy\n",
      "  \"\"\"Entry point for launching an IPython kernel.\n",
      "C:\\Users\\rlee3104\\AppData\\Local\\Continuum\\anaconda3\\lib\\site-packages\\pandas\\core\\frame.py:3374: SettingWithCopyWarning: \n",
      "A value is trying to be set on a copy of a slice from a DataFrame\n",
      "\n",
      "See the caveats in the documentation: http://pandas.pydata.org/pandas-docs/stable/indexing.html#indexing-view-versus-copy\n",
      "  self.loc._setitem_with_indexer(key, value)\n",
      "C:\\Users\\rlee3104\\AppData\\Local\\Continuum\\anaconda3\\lib\\site-packages\\pandas\\core\\frame.py:3362: SettingWithCopyWarning: \n",
      "A value is trying to be set on a copy of a slice from a DataFrame\n",
      "\n",
      "See the caveats in the documentation: http://pandas.pydata.org/pandas-docs/stable/indexing.html#indexing-view-versus-copy\n",
      "  return self._setitem_slice(indexer, value)\n"
     ]
    }
   ],
   "source": [
    "X_train[:] = np.nan_to_num(X_train)"
   ]
  },
  {
   "cell_type": "code",
   "execution_count": 16,
   "metadata": {},
   "outputs": [
    {
     "name": "stderr",
     "output_type": "stream",
     "text": [
      "C:\\Users\\rlee3104\\AppData\\Local\\Continuum\\anaconda3\\lib\\site-packages\\ipykernel_launcher.py:1: SettingWithCopyWarning: \n",
      "A value is trying to be set on a copy of a slice from a DataFrame.\n",
      "Try using .loc[row_indexer,col_indexer] = value instead\n",
      "\n",
      "See the caveats in the documentation: http://pandas.pydata.org/pandas-docs/stable/indexing.html#indexing-view-versus-copy\n",
      "  \"\"\"Entry point for launching an IPython kernel.\n"
     ]
    }
   ],
   "source": [
    "X_test[:] = np.nan_to_num(X_test)"
   ]
  },
  {
   "cell_type": "code",
   "execution_count": 17,
   "metadata": {},
   "outputs": [],
   "source": [
    "from sklearn.preprocessing import StandardScaler\n",
    "sc_X = StandardScaler()\n",
    "X_train = sc_X.fit_transform(X_train)\n",
    "X_test = sc_X.transform(X_test)\n"
   ]
  },
  {
   "cell_type": "code",
   "execution_count": 22,
   "metadata": {},
   "outputs": [],
   "source": [
    "test = sc_X.transform(test)"
   ]
  },
  {
   "cell_type": "code",
   "execution_count": 24,
   "metadata": {},
   "outputs": [],
   "source": [
    "test[:] = np.nan_to_num(test)"
   ]
  },
  {
   "cell_type": "code",
   "execution_count": 60,
   "metadata": {},
   "outputs": [],
   "source": [
    "from sklearn.metrics import accuracy_score\n",
    "from sklearn.ensemble import ExtraTreesClassifier\n",
    "from sklearn.ensemble import RandomForestClassifier\n",
    "from xgboost import XGBClassifier\n",
    "from vecstack import stacking\n",
    "from sklearn.neighbors import KNeighborsClassifier\n",
    "from sklearn.linear_model import LogisticRegression\n",
    "from sklearn.neural_network import MLPClassifier\n",
    "from sklearn.neighbors import KNeighborsClassifier\n",
    "from sklearn.svm import SVC\n",
    "import lightgbm as lgbClassifier"
   ]
  },
  {
   "cell_type": "code",
   "execution_count": null,
   "metadata": {},
   "outputs": [],
   "source": [
    "application: 'binary',objective: 'binary',metric: 'auc',is_unbalance: 'true',boosting: 'gbdt',num_leaves: 31,feature_fraction: 0.5,learning_rate: 0.05\n",
    "    application: 'binary',objective: 'binary',metric: 'auc',is_unbalance: 'true',boosting: 'gbdt',num_leaves: 31,\n",
    "                            "
   ]
  },
  {
   "cell_type": "code",
   "execution_count": 68,
   "metadata": {},
   "outputs": [],
   "source": [
    "models = [\n",
    "\n",
    "  #  lgbClassifier() ,\n",
    "    ExtraTreesClassifier(random_state=0, n_jobs=-1, \n",
    "                         n_estimators=500, max_depth=8),\n",
    "        \n",
    "    RandomForestClassifier(random_state=0, n_jobs=-1, \n",
    "                           n_estimators=500, max_depth=3),\n",
    "    \n",
    "    \n",
    "    #KNeighborsClassifier(n_neighbors=5),\n",
    "    LogisticRegression(),\n",
    "    SVC(kernel=\"linear\", C=0.025)\n",
    "   # SVC(gamma=2, C=1)\n",
    "    \n",
    "    \n",
    "    \n",
    "]"
   ]
  },
  {
   "cell_type": "code",
   "execution_count": 69,
   "metadata": {},
   "outputs": [
    {
     "name": "stdout",
     "output_type": "stream",
     "text": [
      "task:         [classification]\n",
      "n_classes:    [2]\n",
      "metric:       [accuracy_score]\n",
      "mode:         [oof_pred_bag]\n",
      "n_models:     [4]\n",
      "\n",
      "model  0:     [ExtraTreesClassifier]\n",
      "    fold  0:  [0.72685772]\n",
      "    fold  1:  [0.72001014]\n",
      "    fold  2:  [0.73255519]\n",
      "    fold  3:  [0.74194367]\n",
      "    ----\n",
      "    MEAN:     [0.73034168] + [0.00803717]\n",
      "    FULL:     [0.73033993]\n",
      "\n",
      "model  1:     [RandomForestClassifier]\n",
      "    fold  0:  [0.89906163]\n",
      "    fold  1:  [0.89906163]\n",
      "    fold  2:  [0.89926415]\n",
      "    fold  3:  [0.89926415]\n",
      "    ----\n",
      "    MEAN:     [0.89916289] + [0.00010126]\n",
      "    FULL:     [0.89916286]\n",
      "\n",
      "model  2:     [LogisticRegression]\n"
     ]
    },
    {
     "name": "stderr",
     "output_type": "stream",
     "text": [
      "C:\\Users\\rlee3104\\AppData\\Local\\Continuum\\anaconda3\\lib\\site-packages\\sklearn\\linear_model\\logistic.py:433: FutureWarning: Default solver will be changed to 'lbfgs' in 0.22. Specify a solver to silence this warning.\n",
      "  FutureWarning)\n"
     ]
    },
    {
     "name": "stdout",
     "output_type": "stream",
     "text": [
      "    fold  0:  [0.71214811]\n"
     ]
    },
    {
     "name": "stderr",
     "output_type": "stream",
     "text": [
      "C:\\Users\\rlee3104\\AppData\\Local\\Continuum\\anaconda3\\lib\\site-packages\\sklearn\\linear_model\\logistic.py:433: FutureWarning: Default solver will be changed to 'lbfgs' in 0.22. Specify a solver to silence this warning.\n",
      "  FutureWarning)\n"
     ]
    },
    {
     "name": "stdout",
     "output_type": "stream",
     "text": [
      "    fold  1:  [0.66573675]\n"
     ]
    },
    {
     "name": "stderr",
     "output_type": "stream",
     "text": [
      "C:\\Users\\rlee3104\\AppData\\Local\\Continuum\\anaconda3\\lib\\site-packages\\sklearn\\linear_model\\logistic.py:433: FutureWarning: Default solver will be changed to 'lbfgs' in 0.22. Specify a solver to silence this warning.\n",
      "  FutureWarning)\n"
     ]
    },
    {
     "name": "stdout",
     "output_type": "stream",
     "text": [
      "    fold  2:  [0.67876174]\n"
     ]
    },
    {
     "name": "stderr",
     "output_type": "stream",
     "text": [
      "C:\\Users\\rlee3104\\AppData\\Local\\Continuum\\anaconda3\\lib\\site-packages\\sklearn\\linear_model\\logistic.py:433: FutureWarning: Default solver will be changed to 'lbfgs' in 0.22. Specify a solver to silence this warning.\n",
      "  FutureWarning)\n"
     ]
    },
    {
     "name": "stdout",
     "output_type": "stream",
     "text": [
      "    fold  3:  [0.71200203]\n",
      "    ----\n",
      "    MEAN:     [0.69216216] + [0.02043852]\n",
      "    FULL:     [0.69216134]\n",
      "\n",
      "model  3:     [SVC]\n",
      "    fold  0:  [0.68247527]\n",
      "    fold  1:  [0.65584580]\n",
      "    fold  2:  [0.66150723]\n",
      "    fold  3:  [0.67419437]\n",
      "    ----\n",
      "    MEAN:     [0.66850567] + [0.01044942]\n",
      "    FULL:     [0.66850583]\n",
      "\n"
     ]
    }
   ],
   "source": [
    "S_train, S_test = stacking(models,                     # list of models\n",
    "                           X_train, y_train, test,   # data\n",
    "                           regression=False,           # classification task (if you need \n",
    "                                                       #     regression - set to True)\n",
    "                           mode='oof_pred_bag',        # mode: oof for train set, predict test \n",
    "                                                       #     set in each fold and vote\n",
    "                           needs_proba=False,          # predict class labels (if you need \n",
    "                                                       #     probabilities - set to True) \n",
    "                           save_dir=None,              # do not save result and log (to save \n",
    "                                                       #     in current dir - set to '.')\n",
    "                           metric=accuracy_score,      # metric: callable\n",
    "                           n_folds=4,                  # number of folds\n",
    "                           stratified=True,            # stratified split for folds\n",
    "                           shuffle=True,               # shuffle the data\n",
    "                           random_state=0,             # ensure reproducibility\n",
    "                           verbose=2)  "
   ]
  },
  {
   "cell_type": "code",
   "execution_count": 70,
   "metadata": {},
   "outputs": [],
   "source": [
    "model = XGBClassifier(random_state=0, n_jobs=-1, learning_rate=0.01, \n",
    "                      n_estimators=1000, max_depth=8,scale_pos_weight = 7)\n",
    "    \n",
    "# Fit 2nd level model\n",
    "model = model.fit(S_train, y_train)\n",
    "\n",
    "# Predict\n",
    "y_pred = model.predict(S_test)\n",
    "\n"
   ]
  },
  {
   "cell_type": "code",
   "execution_count": 71,
   "metadata": {},
   "outputs": [],
   "source": [
    "y_pred1 = model.predict(S_train)"
   ]
  },
  {
   "cell_type": "code",
   "execution_count": 72,
   "metadata": {},
   "outputs": [
    {
     "data": {
      "text/plain": [
       "array([0, 1], dtype=int64)"
      ]
     },
     "execution_count": 72,
     "metadata": {},
     "output_type": "execute_result"
    }
   ],
   "source": [
    "np.unique(y_pred)"
   ]
  },
  {
   "cell_type": "code",
   "execution_count": 73,
   "metadata": {},
   "outputs": [
    {
     "name": "stderr",
     "output_type": "stream",
     "text": [
      "C:\\Users\\rlee3104\\AppData\\Local\\Continuum\\anaconda3\\lib\\site-packages\\IPython\\core\\interactiveshell.py:3049: DtypeWarning: Columns (700,731,740,752,761,789,811,820,829,841,850) have mixed types. Specify dtype option on import or set low_memory=False.\n",
      "  interactivity=interactivity, compiler=compiler, result=result)\n"
     ]
    }
   ],
   "source": [
    "testing = pd.read_csv(r'C:\\Users\\rlee3104\\Desktop\\HDFC\\d407ebe0db9a11e9\\DataSet\\Test.csv')"
   ]
  },
  {
   "cell_type": "code",
   "execution_count": 76,
   "metadata": {},
   "outputs": [],
   "source": [
    "my_submission = pd.DataFrame({'Col1': testing.Col1, 'Col2': y_pred})\n",
    "# you could use any filename. We choose submission here\n",
    "my_submission.to_csv('HDFC_backup.csv', index=False)"
   ]
  },
  {
   "cell_type": "code",
   "execution_count": 74,
   "metadata": {},
   "outputs": [],
   "source": [
    "from termcolor import colored\n",
    "#from sklearn.cross_validation import KFold\n",
    "\n",
    "from sklearn.metrics import confusion_matrix"
   ]
  },
  {
   "cell_type": "code",
   "execution_count": 75,
   "metadata": {},
   "outputs": [
    {
     "name": "stdout",
     "output_type": "stream",
     "text": [
      "\u001b[31mThe Confusion Matrix is: \u001b[0m \n",
      " [[10127  4051]\n",
      " [  702   888]]\n",
      "\u001b[34mThe Accuracy on Test Set is: \u001b[0m \u001b[34m0.6985667174023339\u001b[0m\n"
     ]
    }
   ],
   "source": [
    "#y_pred1 = model.predict(dte)\n",
    "# Making the Confusion Matrix\n",
    "cm = confusion_matrix(y_train, (y_pred1>0.5))\n",
    "print(colored('The Confusion Matrix is: ', 'red'),'\\n', cm)\n",
    "# Calculate the accuracy on test set\n",
    "predict_accuracy_on_test_set = (cm[0,0] + cm[1,1])/(cm[0,0] + cm[1,1]+cm[1,0] + cm[0,1])\n",
    "print(colored('The Accuracy on Test Set is: ', 'blue'), colored(predict_accuracy_on_test_set, 'blue'))"
   ]
  },
  {
   "cell_type": "code",
   "execution_count": null,
   "metadata": {},
   "outputs": [],
   "source": []
  }
 ],
 "metadata": {
  "kernelspec": {
   "display_name": "Python 3",
   "language": "python",
   "name": "python3"
  },
  "language_info": {
   "codemirror_mode": {
    "name": "ipython",
    "version": 3
   },
   "file_extension": ".py",
   "mimetype": "text/x-python",
   "name": "python",
   "nbconvert_exporter": "python",
   "pygments_lexer": "ipython3",
   "version": "3.7.3"
  }
 },
 "nbformat": 4,
 "nbformat_minor": 2
}
